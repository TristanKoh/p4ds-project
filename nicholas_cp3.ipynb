{
 "cells": [
  {
   "cell_type": "markdown",
   "metadata": {},
   "source": [
    "<font size=\"5\">Exploratory Data Analysis</font>  \n",
    "\n",
    "Google Covid-19 Data\n",
    "\n",
    "Author: Nicholas\n",
    "\n",
    "The purpose of this notebook is \n",
    "\n",
    "1. Get a function to come out with a covid severity graph per country/subregion\n",
    "2. Get a table of the distribution of areas of each country, reason: so that I know what the limitations of my analysis is when I attempt to aggregate the country's response in a large country like the USA.\n",
    "3. Clustering countries by similarity (at least show one example)\n",
    "4. Compare govt. reponse\n",
    "\n",
    "The four data sets I have been assigned are:\n",
    "1. Demographics\n",
    "2. Economy\n",
    "3. Epidemiology\n",
    "4. Emergency Declarations"
   ]
  },
  {
   "cell_type": "markdown",
   "metadata": {},
   "source": [
    "# Load Packages\n"
   ]
  },
  {
   "cell_type": "code",
   "execution_count": 1,
   "metadata": {
    "scrolled": true
   },
   "outputs": [],
   "source": [
    "# Run this cell to set up your notebook\n",
    "import numpy as np\n",
    "import pandas as pd\n",
    "import sklearn\n",
    "import sklearn.linear_model\n",
    "\n",
    "import matplotlib\n",
    "from matplotlib import pyplot\n",
    "import matplotlib.pyplot as plt\n",
    "import seaborn as sns\n",
    "from matplotlib.pyplot import figure\n",
    "\n",
    "\n",
    "import plotly\n",
    "import plotly.offline as py\n",
    "import plotly.graph_objs as go\n",
    "import plotly.figure_factory as ff\n",
    "#import cufflinks as cf\n",
    "\n",
    "\n",
    "%matplotlib inline\n",
    "sns.set()\n",
    "sns.set_context(\"talk\")\n",
    "\n",
    "from warnings import simplefilter\n",
    "from sklearn.exceptions import ConvergenceWarning\n",
    "simplefilter(\"ignore\", category=ConvergenceWarning)\n",
    "\n",
    "import plotly.express as px\n",
    "\n",
    "# Code to install package\n",
    "# import sys\n",
    "# !{sys.executable} -m pip install tslearn"
   ]
  },
  {
   "cell_type": "markdown",
   "metadata": {},
   "source": [
    "# Load and Inspect Datasets"
   ]
  },
  {
   "cell_type": "markdown",
   "metadata": {},
   "source": [
    "## Read CSV"
   ]
  },
  {
   "cell_type": "code",
   "execution_count": 2,
   "metadata": {},
   "outputs": [
    {
     "ename": "FileNotFoundError",
     "evalue": "[Errno 2] No such file or directory: 'datasets\\\\epidemiology.csv'",
     "output_type": "error",
     "traceback": [
      "\u001b[1;31m---------------------------------------------------------------------------\u001b[0m",
      "\u001b[1;31mFileNotFoundError\u001b[0m                         Traceback (most recent call last)",
      "\u001b[1;32m<ipython-input-2-23035ab806db>\u001b[0m in \u001b[0;36m<module>\u001b[1;34m\u001b[0m\n\u001b[0;32m      1\u001b[0m \u001b[0mindex\u001b[0m \u001b[1;33m=\u001b[0m \u001b[0mpd\u001b[0m\u001b[1;33m.\u001b[0m\u001b[0mread_csv\u001b[0m \u001b[1;33m(\u001b[0m\u001b[1;34mr'datasets\\index.csv'\u001b[0m\u001b[1;33m)\u001b[0m\u001b[1;33m\u001b[0m\u001b[1;33m\u001b[0m\u001b[0m\n\u001b[0;32m      2\u001b[0m \u001b[0mgov_res\u001b[0m \u001b[1;33m=\u001b[0m \u001b[0mpd\u001b[0m\u001b[1;33m.\u001b[0m\u001b[0mread_csv\u001b[0m\u001b[1;33m(\u001b[0m\u001b[1;34mr'datasets\\government-response.csv'\u001b[0m\u001b[1;33m)\u001b[0m\u001b[1;33m\u001b[0m\u001b[1;33m\u001b[0m\u001b[0m\n\u001b[1;32m----> 3\u001b[1;33m \u001b[0mepid\u001b[0m \u001b[1;33m=\u001b[0m \u001b[0mpd\u001b[0m\u001b[1;33m.\u001b[0m\u001b[0mread_csv\u001b[0m\u001b[1;33m(\u001b[0m\u001b[1;34mr'datasets\\epidemiology.csv'\u001b[0m\u001b[1;33m)\u001b[0m\u001b[1;33m\u001b[0m\u001b[1;33m\u001b[0m\u001b[0m\n\u001b[0m\u001b[0;32m      4\u001b[0m \u001b[0mdemo\u001b[0m \u001b[1;33m=\u001b[0m \u001b[0mpd\u001b[0m\u001b[1;33m.\u001b[0m\u001b[0mread_csv\u001b[0m \u001b[1;33m(\u001b[0m\u001b[1;34mr'datasets\\demographics.csv'\u001b[0m\u001b[1;33m)\u001b[0m\u001b[1;33m\u001b[0m\u001b[1;33m\u001b[0m\u001b[0m\n",
      "\u001b[1;32m~\\anaconda3\\lib\\site-packages\\pandas\\io\\parsers.py\u001b[0m in \u001b[0;36mread_csv\u001b[1;34m(filepath_or_buffer, sep, delimiter, header, names, index_col, usecols, squeeze, prefix, mangle_dupe_cols, dtype, engine, converters, true_values, false_values, skipinitialspace, skiprows, skipfooter, nrows, na_values, keep_default_na, na_filter, verbose, skip_blank_lines, parse_dates, infer_datetime_format, keep_date_col, date_parser, dayfirst, cache_dates, iterator, chunksize, compression, thousands, decimal, lineterminator, quotechar, quoting, doublequote, escapechar, comment, encoding, dialect, error_bad_lines, warn_bad_lines, delim_whitespace, low_memory, memory_map, float_precision)\u001b[0m\n\u001b[0;32m    684\u001b[0m     )\n\u001b[0;32m    685\u001b[0m \u001b[1;33m\u001b[0m\u001b[0m\n\u001b[1;32m--> 686\u001b[1;33m     \u001b[1;32mreturn\u001b[0m \u001b[0m_read\u001b[0m\u001b[1;33m(\u001b[0m\u001b[0mfilepath_or_buffer\u001b[0m\u001b[1;33m,\u001b[0m \u001b[0mkwds\u001b[0m\u001b[1;33m)\u001b[0m\u001b[1;33m\u001b[0m\u001b[1;33m\u001b[0m\u001b[0m\n\u001b[0m\u001b[0;32m    687\u001b[0m \u001b[1;33m\u001b[0m\u001b[0m\n\u001b[0;32m    688\u001b[0m \u001b[1;33m\u001b[0m\u001b[0m\n",
      "\u001b[1;32m~\\anaconda3\\lib\\site-packages\\pandas\\io\\parsers.py\u001b[0m in \u001b[0;36m_read\u001b[1;34m(filepath_or_buffer, kwds)\u001b[0m\n\u001b[0;32m    450\u001b[0m \u001b[1;33m\u001b[0m\u001b[0m\n\u001b[0;32m    451\u001b[0m     \u001b[1;31m# Create the parser.\u001b[0m\u001b[1;33m\u001b[0m\u001b[1;33m\u001b[0m\u001b[1;33m\u001b[0m\u001b[0m\n\u001b[1;32m--> 452\u001b[1;33m     \u001b[0mparser\u001b[0m \u001b[1;33m=\u001b[0m \u001b[0mTextFileReader\u001b[0m\u001b[1;33m(\u001b[0m\u001b[0mfp_or_buf\u001b[0m\u001b[1;33m,\u001b[0m \u001b[1;33m**\u001b[0m\u001b[0mkwds\u001b[0m\u001b[1;33m)\u001b[0m\u001b[1;33m\u001b[0m\u001b[1;33m\u001b[0m\u001b[0m\n\u001b[0m\u001b[0;32m    453\u001b[0m \u001b[1;33m\u001b[0m\u001b[0m\n\u001b[0;32m    454\u001b[0m     \u001b[1;32mif\u001b[0m \u001b[0mchunksize\u001b[0m \u001b[1;32mor\u001b[0m \u001b[0miterator\u001b[0m\u001b[1;33m:\u001b[0m\u001b[1;33m\u001b[0m\u001b[1;33m\u001b[0m\u001b[0m\n",
      "\u001b[1;32m~\\anaconda3\\lib\\site-packages\\pandas\\io\\parsers.py\u001b[0m in \u001b[0;36m__init__\u001b[1;34m(self, f, engine, **kwds)\u001b[0m\n\u001b[0;32m    944\u001b[0m             \u001b[0mself\u001b[0m\u001b[1;33m.\u001b[0m\u001b[0moptions\u001b[0m\u001b[1;33m[\u001b[0m\u001b[1;34m\"has_index_names\"\u001b[0m\u001b[1;33m]\u001b[0m \u001b[1;33m=\u001b[0m \u001b[0mkwds\u001b[0m\u001b[1;33m[\u001b[0m\u001b[1;34m\"has_index_names\"\u001b[0m\u001b[1;33m]\u001b[0m\u001b[1;33m\u001b[0m\u001b[1;33m\u001b[0m\u001b[0m\n\u001b[0;32m    945\u001b[0m \u001b[1;33m\u001b[0m\u001b[0m\n\u001b[1;32m--> 946\u001b[1;33m         \u001b[0mself\u001b[0m\u001b[1;33m.\u001b[0m\u001b[0m_make_engine\u001b[0m\u001b[1;33m(\u001b[0m\u001b[0mself\u001b[0m\u001b[1;33m.\u001b[0m\u001b[0mengine\u001b[0m\u001b[1;33m)\u001b[0m\u001b[1;33m\u001b[0m\u001b[1;33m\u001b[0m\u001b[0m\n\u001b[0m\u001b[0;32m    947\u001b[0m \u001b[1;33m\u001b[0m\u001b[0m\n\u001b[0;32m    948\u001b[0m     \u001b[1;32mdef\u001b[0m \u001b[0mclose\u001b[0m\u001b[1;33m(\u001b[0m\u001b[0mself\u001b[0m\u001b[1;33m)\u001b[0m\u001b[1;33m:\u001b[0m\u001b[1;33m\u001b[0m\u001b[1;33m\u001b[0m\u001b[0m\n",
      "\u001b[1;32m~\\anaconda3\\lib\\site-packages\\pandas\\io\\parsers.py\u001b[0m in \u001b[0;36m_make_engine\u001b[1;34m(self, engine)\u001b[0m\n\u001b[0;32m   1176\u001b[0m     \u001b[1;32mdef\u001b[0m \u001b[0m_make_engine\u001b[0m\u001b[1;33m(\u001b[0m\u001b[0mself\u001b[0m\u001b[1;33m,\u001b[0m \u001b[0mengine\u001b[0m\u001b[1;33m=\u001b[0m\u001b[1;34m\"c\"\u001b[0m\u001b[1;33m)\u001b[0m\u001b[1;33m:\u001b[0m\u001b[1;33m\u001b[0m\u001b[1;33m\u001b[0m\u001b[0m\n\u001b[0;32m   1177\u001b[0m         \u001b[1;32mif\u001b[0m \u001b[0mengine\u001b[0m \u001b[1;33m==\u001b[0m \u001b[1;34m\"c\"\u001b[0m\u001b[1;33m:\u001b[0m\u001b[1;33m\u001b[0m\u001b[1;33m\u001b[0m\u001b[0m\n\u001b[1;32m-> 1178\u001b[1;33m             \u001b[0mself\u001b[0m\u001b[1;33m.\u001b[0m\u001b[0m_engine\u001b[0m \u001b[1;33m=\u001b[0m \u001b[0mCParserWrapper\u001b[0m\u001b[1;33m(\u001b[0m\u001b[0mself\u001b[0m\u001b[1;33m.\u001b[0m\u001b[0mf\u001b[0m\u001b[1;33m,\u001b[0m \u001b[1;33m**\u001b[0m\u001b[0mself\u001b[0m\u001b[1;33m.\u001b[0m\u001b[0moptions\u001b[0m\u001b[1;33m)\u001b[0m\u001b[1;33m\u001b[0m\u001b[1;33m\u001b[0m\u001b[0m\n\u001b[0m\u001b[0;32m   1179\u001b[0m         \u001b[1;32melse\u001b[0m\u001b[1;33m:\u001b[0m\u001b[1;33m\u001b[0m\u001b[1;33m\u001b[0m\u001b[0m\n\u001b[0;32m   1180\u001b[0m             \u001b[1;32mif\u001b[0m \u001b[0mengine\u001b[0m \u001b[1;33m==\u001b[0m \u001b[1;34m\"python\"\u001b[0m\u001b[1;33m:\u001b[0m\u001b[1;33m\u001b[0m\u001b[1;33m\u001b[0m\u001b[0m\n",
      "\u001b[1;32m~\\anaconda3\\lib\\site-packages\\pandas\\io\\parsers.py\u001b[0m in \u001b[0;36m__init__\u001b[1;34m(self, src, **kwds)\u001b[0m\n\u001b[0;32m   2006\u001b[0m         \u001b[0mkwds\u001b[0m\u001b[1;33m[\u001b[0m\u001b[1;34m\"usecols\"\u001b[0m\u001b[1;33m]\u001b[0m \u001b[1;33m=\u001b[0m \u001b[0mself\u001b[0m\u001b[1;33m.\u001b[0m\u001b[0musecols\u001b[0m\u001b[1;33m\u001b[0m\u001b[1;33m\u001b[0m\u001b[0m\n\u001b[0;32m   2007\u001b[0m \u001b[1;33m\u001b[0m\u001b[0m\n\u001b[1;32m-> 2008\u001b[1;33m         \u001b[0mself\u001b[0m\u001b[1;33m.\u001b[0m\u001b[0m_reader\u001b[0m \u001b[1;33m=\u001b[0m \u001b[0mparsers\u001b[0m\u001b[1;33m.\u001b[0m\u001b[0mTextReader\u001b[0m\u001b[1;33m(\u001b[0m\u001b[0msrc\u001b[0m\u001b[1;33m,\u001b[0m \u001b[1;33m**\u001b[0m\u001b[0mkwds\u001b[0m\u001b[1;33m)\u001b[0m\u001b[1;33m\u001b[0m\u001b[1;33m\u001b[0m\u001b[0m\n\u001b[0m\u001b[0;32m   2009\u001b[0m         \u001b[0mself\u001b[0m\u001b[1;33m.\u001b[0m\u001b[0munnamed_cols\u001b[0m \u001b[1;33m=\u001b[0m \u001b[0mself\u001b[0m\u001b[1;33m.\u001b[0m\u001b[0m_reader\u001b[0m\u001b[1;33m.\u001b[0m\u001b[0munnamed_cols\u001b[0m\u001b[1;33m\u001b[0m\u001b[1;33m\u001b[0m\u001b[0m\n\u001b[0;32m   2010\u001b[0m \u001b[1;33m\u001b[0m\u001b[0m\n",
      "\u001b[1;32mpandas\\_libs\\parsers.pyx\u001b[0m in \u001b[0;36mpandas._libs.parsers.TextReader.__cinit__\u001b[1;34m()\u001b[0m\n",
      "\u001b[1;32mpandas\\_libs\\parsers.pyx\u001b[0m in \u001b[0;36mpandas._libs.parsers.TextReader._setup_parser_source\u001b[1;34m()\u001b[0m\n",
      "\u001b[1;31mFileNotFoundError\u001b[0m: [Errno 2] No such file or directory: 'datasets\\\\epidemiology.csv'"
     ]
    }
   ],
   "source": [
    "index = pd.read_csv (r'datasets\\index.csv')\n",
    "gov_res = pd.read_csv(r'datasets\\government-response.csv')\n",
    "epid = pd.read_csv(r'datasets\\epidemiology.csv')\n",
    "demo = pd.read_csv (r'datasets\\demographics.csv')"
   ]
  },
  {
   "cell_type": "markdown",
   "metadata": {},
   "source": [
    "## `index`: country-level"
   ]
  },
  {
   "cell_type": "code",
   "execution_count": null,
   "metadata": {
    "scrolled": true
   },
   "outputs": [],
   "source": [
    "index_country_level = index[['location_key','country_code','country_name']]\n",
    "index_country_level.head(2)"
   ]
  },
  {
   "cell_type": "markdown",
   "metadata": {},
   "source": [
    "## `country_level` function"
   ]
  },
  {
   "cell_type": "code",
   "execution_count": null,
   "metadata": {},
   "outputs": [],
   "source": [
    "# country_level preserves the row of the df\n",
    "# the only thing it does is append the country _code so that you can \n",
    "# filter by country_code/name\n",
    "# which you cannot do with just the location_key\n",
    "def country_level(df):\n",
    "    return index_country_level.merge(df)"
   ]
  },
  {
   "cell_type": "markdown",
   "metadata": {},
   "source": [
    "## `gov_res`: country-level"
   ]
  },
  {
   "cell_type": "code",
   "execution_count": null,
   "metadata": {},
   "outputs": [],
   "source": []
  },
  {
   "cell_type": "code",
   "execution_count": null,
   "metadata": {},
   "outputs": [],
   "source": [
    "gov_res"
   ]
  },
  {
   "cell_type": "markdown",
   "metadata": {},
   "source": [
    "## `epid` : country-level"
   ]
  },
  {
   "cell_type": "code",
   "execution_count": null,
   "metadata": {
    "scrolled": false
   },
   "outputs": [],
   "source": [
    "epid_country =  country_level(epid)\n",
    "epid_country.head(2)"
   ]
  },
  {
   "cell_type": "markdown",
   "metadata": {},
   "source": [
    "## `demo` country-level"
   ]
  },
  {
   "cell_type": "code",
   "execution_count": null,
   "metadata": {},
   "outputs": [],
   "source": [
    "demo_country = country_level(demo)\n",
    "demo_country.head(2)"
   ]
  },
  {
   "cell_type": "markdown",
   "metadata": {},
   "source": [
    "# Extract Death Statistic per country"
   ]
  },
  {
   "cell_type": "markdown",
   "metadata": {},
   "source": [
    "## `demo`"
   ]
  },
  {
   "cell_type": "code",
   "execution_count": null,
   "metadata": {
    "scrolled": true
   },
   "outputs": [],
   "source": [
    "demo_UK = demo_country[(demo_country[\"location_key\"] == 'GB')].reset_index()\n",
    "demo_UK.head()"
   ]
  },
  {
   "cell_type": "code",
   "execution_count": null,
   "metadata": {},
   "outputs": [],
   "source": [
    "print(\"The total population of UK is\",demo_UK[\"population\"][0],\".\")"
   ]
  },
  {
   "cell_type": "code",
   "execution_count": null,
   "metadata": {},
   "outputs": [],
   "source": [
    "demo_country[(demo_country[\"country_code\"] == 'GB')].sort_values('population_urban').head(2)"
   ]
  },
  {
   "cell_type": "markdown",
   "metadata": {},
   "source": [
    "## `epid`"
   ]
  },
  {
   "cell_type": "code",
   "execution_count": null,
   "metadata": {},
   "outputs": [],
   "source": [
    "# Need to come up with covid severity graph for all of UK aggregated"
   ]
  },
  {
   "cell_type": "code",
   "execution_count": null,
   "metadata": {
    "scrolled": true
   },
   "outputs": [],
   "source": [
    "# Step 1: Filter by country\n",
    "epid_UK = epid[(epid[\"location_key\"] == 'GB')]\n",
    "epid_UK.head(2)"
   ]
  },
  {
   "cell_type": "markdown",
   "metadata": {},
   "source": [
    "## `epid` by UK by month"
   ]
  },
  {
   "cell_type": "code",
   "execution_count": null,
   "metadata": {
    "scrolled": false
   },
   "outputs": [],
   "source": [
    "\n",
    "# Step 2: Change `date` column to datetime data type\n",
    "epid_UK['date'] = pd.to_datetime(epid_UK['date'])\n",
    "# Step 3: Create a new column with only the months\n",
    "epid_UK['month_year'] = epid_UK['date'].dt.to_period('M')\n",
    "\n",
    "# Step 4: Create a new data frame that groups by and sums up the months\n",
    "epid_UK_month = epid_UK.groupby('month_year').agg('sum')\n",
    "\n",
    "# Step 5: Change the data type of the index from `datetime` to `string` type.\n",
    "# This is to aid plotting.\n",
    "epid_UK_month.index=epid_UK_month.index.to_series().astype(str)\n",
    "epid_UK_month.head()"
   ]
  },
  {
   "cell_type": "code",
   "execution_count": null,
   "metadata": {
    "scrolled": false
   },
   "outputs": [],
   "source": [
    "# Step 6: Extract the series new_deceased\n",
    "# 33 months of info, each country will have an aggregated signal \n",
    "# composed of 33 months\n",
    "len(epid_UK_month['new_deceased'])"
   ]
  },
  {
   "cell_type": "markdown",
   "metadata": {},
   "source": [
    "### Sample signal for `country == UK`"
   ]
  },
  {
   "cell_type": "code",
   "execution_count": null,
   "metadata": {
    "scrolled": true
   },
   "outputs": [],
   "source": [
    "epid_UK_month.dtypes\n",
    "fig = px.line(epid_UK_month, x=epid_UK_month.index, y=epid_UK_month.columns[1])\n",
    "fig.show()"
   ]
  },
  {
   "cell_type": "markdown",
   "metadata": {},
   "source": [
    "## `Epid` by another country that's not UK by month"
   ]
  },
  {
   "cell_type": "code",
   "execution_count": null,
   "metadata": {
    "scrolled": true
   },
   "outputs": [],
   "source": [
    "# goal is to create a function that will give me\n",
    "# index: month_year\n",
    "# columns: all the countries and their death rates per month\n",
    "# step 1: Filter epid by specific country\n",
    "epid_US = epid[(epid[\"location_key\"] == 'US')]\n",
    "# step 2: \n"
   ]
  },
  {
   "cell_type": "code",
   "execution_count": null,
   "metadata": {},
   "outputs": [],
   "source": [
    "# per month agg statistics\n",
    "epid_UK.groupby(pd.Grouper(key='date', freq='M'))"
   ]
  },
  {
   "cell_type": "markdown",
   "metadata": {},
   "source": [
    "## Function"
   ]
  },
  {
   "cell_type": "code",
   "execution_count": null,
   "metadata": {},
   "outputs": [],
   "source": [
    "# Sample function to get column of all the country's deaths by month.\n",
    "\n",
    "# List of all unique country codes\n",
    "# for use in function later\n",
    "unique_countries = index['country_code'].unique()\n",
    "\n",
    "def new_deceased_month(df, country_name):\n",
    "    #Step 1: Filter by country\n",
    "    epid_country1 = epid[(epid[\"location_key\"] == country_name)]\n",
    "    \n",
    "    # Step 2: Change `date` column to datetime data type\n",
    "    epid_country1['date'] = pd.to_datetime(epid_country1['date'])\n",
    "    \n",
    "    # Step 3: Create a new column with only the months\n",
    "    epid_country1['month_year'] = epid_country1['date'].dt.to_period('M')\n",
    "\n",
    "    # Step 4: Create a new data frame that groups by and sums up the months\n",
    "    epid_country1_month = epid_country1.groupby('month_year').agg('sum')\n",
    "\n",
    "    # Step 5: Change the data type of the index from `datetime` to `string` type.\n",
    "    # This is to aid plotting.\n",
    "    epid_country1_month.index=epid_country1_month.index.to_series().astype(str)\n",
    "    \n",
    "    # Step 6: Change the column name of `new_deceased` to country's name\n",
    "    epid_country1_month = epid_country1_month[['new_deceased']].reset_index().rename(columns = {'new_deceased':country_name})\n",
    "    return epid_country1_month"
   ]
  },
  {
   "cell_type": "markdown",
   "metadata": {},
   "source": [
    "### For-loop"
   ]
  },
  {
   "cell_type": "markdown",
   "metadata": {},
   "source": [
    "Warning: This for loop takes a long while to run. The output has already been saved as a .csv. \n",
    "You can uncommment a run it if you want, but it will take around 15 mins."
   ]
  },
  {
   "cell_type": "code",
   "execution_count": null,
   "metadata": {},
   "outputs": [],
   "source": [
    "# # Initialise an empty dataframe\n",
    "# deceased_month = pd.DataFrame({\n",
    "#     'month_year' : epid_UK_month.index\n",
    "# })\n",
    "\n",
    "# for country in unique_countries:\n",
    "#     country1 = new_deceased_month(epid, country)\n",
    "#     deceased_month = deceased_month.merge(country1, how = 'left')"
   ]
  },
  {
   "cell_type": "markdown",
   "metadata": {},
   "source": [
    "# Dynamic Time Warping"
   ]
  },
  {
   "cell_type": "markdown",
   "metadata": {},
   "source": [
    "## Read `deceased_month`\n",
    "`deceased_month` is an aggregated dataset that has the sum of deaths per month per month. \n",
    "Each row is a month from 2020 to 2022 and each column represents one country. "
   ]
  },
  {
   "cell_type": "code",
   "execution_count": null,
   "metadata": {
    "scrolled": true
   },
   "outputs": [],
   "source": [
    "deceased_month = pd.read_csv (r'generated_data\\deceased_month.csv')\n",
    "deceased_month.head()"
   ]
  },
  {
   "cell_type": "code",
   "execution_count": null,
   "metadata": {
    "scrolled": true
   },
   "outputs": [],
   "source": [
    "# Remove NAs from `deceased_month` \n",
    "deceased_month_noNAs = deceased_month.dropna(axis='columns').iloc[:,0:]\n",
    "\n",
    "# Export dataset as CSV\n",
    "# Uncomment if you want to save the file again\n",
    "deceased_month_noNAs.to_csv(r\"generated_data\\deceased_month_noNAs.csv\")"
   ]
  },
  {
   "cell_type": "code",
   "execution_count": null,
   "metadata": {},
   "outputs": [],
   "source": [
    "deceased_month_noNAs"
   ]
  },
  {
   "cell_type": "markdown",
   "metadata": {},
   "source": [
    "## DTW Algo"
   ]
  },
  {
   "cell_type": "code",
   "execution_count": null,
   "metadata": {},
   "outputs": [],
   "source": [
    "# DTW Matrix Code\n",
    "# From: https://towardsdatascience.com/dynamic-time-warping-3933f25fcdd\n",
    "def dtw(s, t):\n",
    "    n, m = len(s), len(t)\n",
    "    dtw_matrix = np.zeros((n+1, m+1))\n",
    "    for i in range(n+1):\n",
    "        for j in range(m+1):\n",
    "            dtw_matrix[i, j] = np.inf\n",
    "    dtw_matrix[0, 0] = 0\n",
    "    \n",
    "    for i in range(1, n+1):\n",
    "        for j in range(1, m+1):\n",
    "            cost = abs(s[i-1] - t[j-1])\n",
    "            # take last min from a square box\n",
    "            last_min = np.min([dtw_matrix[i-1, j], dtw_matrix[i, j-1], dtw_matrix[i-1, j-1]])\n",
    "            dtw_matrix[i, j] = cost + last_min\n",
    "    return dtw_matrix"
   ]
  },
  {
   "cell_type": "code",
   "execution_count": null,
   "metadata": {},
   "outputs": [],
   "source": [
    "# Test\n",
    "x= [1,2,3,4,5,6,7,8,9,10]\n",
    "y= [1,1,2,3,4,5,6,7,8,9,10]"
   ]
  },
  {
   "cell_type": "code",
   "execution_count": null,
   "metadata": {},
   "outputs": [],
   "source": [
    "np.matrix(dtw(x,y))"
   ]
  },
  {
   "cell_type": "code",
   "execution_count": null,
   "metadata": {
    "scrolled": true
   },
   "outputs": [],
   "source": [
    "# # Columns with NA Value\n",
    "# deceased_month.loc[:, deceased_month.isna().any()]\n",
    "# # deceased_month.isna().any(axis=0)"
   ]
  },
  {
   "cell_type": "markdown",
   "metadata": {},
   "source": [
    "## DTW Package"
   ]
  },
  {
   "cell_type": "code",
   "execution_count": null,
   "metadata": {
    "scrolled": true
   },
   "outputs": [],
   "source": [
    "# import sys\n",
    "# !{sys.executable} -m pip install dtw-python"
   ]
  },
  {
   "cell_type": "code",
   "execution_count": null,
   "metadata": {},
   "outputs": [],
   "source": [
    "import numpy as np\n",
    "from dtw import *\n",
    "import matplotlib as plt\n",
    "import pandas as pd"
   ]
  },
  {
   "cell_type": "code",
   "execution_count": null,
   "metadata": {
    "scrolled": true
   },
   "outputs": [],
   "source": [
    "## A noisy sine wave as query\n",
    "idx = np.linspace(0,6.28,num=100)\n",
    "query = np.sin(idx) + np.random.uniform(size=100)/10.0\n",
    "\n",
    "## A cosine is for template; sin and cos are offset by 25 samples\n",
    "template = np.cos(idx)\n",
    "\n",
    "## Find the best match with the canonical recursion formula\n",
    "alignment = dtw(query, template, keep_internals=True)\n",
    "\n",
    "## Display the warping curve, i.e. the alignment curve\n",
    "alignment.plot(type=\"threeway\")\n"
   ]
  },
  {
   "cell_type": "code",
   "execution_count": null,
   "metadata": {
    "scrolled": true
   },
   "outputs": [],
   "source": [
    "dtw(query, template, keep_internals=True, \n",
    "    step_pattern=rabinerJuangStepPattern(6, \"c\"))\\\n",
    "    .plot(type=\"twoway\",offset=-2)"
   ]
  },
  {
   "cell_type": "markdown",
   "metadata": {},
   "source": [
    "## SG/TW Comparison"
   ]
  },
  {
   "cell_type": "code",
   "execution_count": null,
   "metadata": {
    "scrolled": false
   },
   "outputs": [],
   "source": [
    "plt.rcParams[\"figure.figsize\"] = (10,10)\n",
    "\n",
    "plot = dtw(deceased_month['SG'].values,deceased_month['TW'].values, keep_internals=True, \n",
    "    step_pattern=rabinerJuangStepPattern(6, \"c\"))\\\n",
    "    .plot(type=\"twoway\",offset=-2)\n",
    "\n",
    "plot.set_title(\"Comparison of Case Fatality in TW and SG\")\n",
    "plot.set_xlabel(\"Month\")\n",
    "plot.set_ylabel(\"Death\")\n"
   ]
  },
  {
   "cell_type": "code",
   "execution_count": null,
   "metadata": {},
   "outputs": [],
   "source": [
    "plt.rcParams[\"figure.figsize\"] = (10,10)\n",
    "\n",
    "plot = dtw(deceased_month['SG'].values,deceased_month['JP'].values, keep_internals=True, \n",
    "    step_pattern=rabinerJuangStepPattern(6, \"c\"))\\\n",
    "    .plot(type=\"twoway\",offset=-2)\n",
    "\n",
    "plot.set_title(\"Comparison of Case Fatality in JP and SG\")\n",
    "plot.set_xlabel(\"Month\")\n",
    "plot.set_ylabel(\"Death\")\n"
   ]
  },
  {
   "cell_type": "markdown",
   "metadata": {},
   "source": [
    "## Heatmap of DTW values"
   ]
  },
  {
   "cell_type": "code",
   "execution_count": null,
   "metadata": {},
   "outputs": [],
   "source": [
    "# import sys\n",
    "# !{sys.executable} -m pip install fastdtw"
   ]
  },
  {
   "cell_type": "code",
   "execution_count": null,
   "metadata": {
    "scrolled": true
   },
   "outputs": [],
   "source": [
    "from fastdtw import fastdtw"
   ]
  },
  {
   "cell_type": "code",
   "execution_count": null,
   "metadata": {
    "scrolled": false
   },
   "outputs": [],
   "source": [
    "deceased_month_noNAs.head(5)"
   ]
  },
  {
   "cell_type": "code",
   "execution_count": null,
   "metadata": {},
   "outputs": [],
   "source": [
    "countries_noNAs = deceased_month_noNAs.columns[1:].array\n",
    "countries_noNAs"
   ]
  },
  {
   "cell_type": "code",
   "execution_count": null,
   "metadata": {
    "scrolled": true
   },
   "outputs": [],
   "source": [
    "# Use this code to get pairwise dtw cost\n",
    "print(\"The difference between SG and TW is\",fastdtw(df['SG'].values,df['TW'].values)[0],\".\")\n",
    "print(\"The difference between SG and JP is\",fastdtw(df['SG'].values,df['JP'].values)[0],\".\")\n",
    "print(\"The difference between SG and US is\",fastdtw(df['SG'].values,df['US'].values)[0],\".\")"
   ]
  },
  {
   "cell_type": "code",
   "execution_count": null,
   "metadata": {
    "scrolled": true
   },
   "outputs": [],
   "source": [
    "# Create pandas dataframe for pairwise comparisons between the countries\n",
    "df_dtw_pairwise = pd.DataFrame(index = df.columns, columns = df.columns)\n",
    "df_dtw_pairwise = df_dtw_pairwise.drop(\"month_year\")\n",
    "df_dtw_pairwise = df_dtw_pairwise.drop(\"month_year\", axis = 1)\n",
    "\n",
    "df_dtw_pairwise.head()"
   ]
  },
  {
   "cell_type": "code",
   "execution_count": null,
   "metadata": {
    "scrolled": false
   },
   "outputs": [],
   "source": [
    "# Uncomment if you want to rerun this for-loop\n",
    "\n",
    "# for row_index, i in enumerate(countries_noNAs):\n",
    "#     for column_index, j in enumerate(countries_noNAs):\n",
    "#         df_dtw_pairwise.iloc[row_index, column_index] = fastdtw(df[i].values, df[j].values)[0]"
   ]
  },
  {
   "cell_type": "code",
   "execution_count": null,
   "metadata": {},
   "outputs": [],
   "source": [
    "df_dtw_pairwise.head(30)"
   ]
  },
  {
   "cell_type": "code",
   "execution_count": null,
   "metadata": {},
   "outputs": [],
   "source": [
    "# df_dtw_pairwise.to_csv(r\"generated_data\\dtw_pairwise.csv\")"
   ]
  },
  {
   "cell_type": "code",
   "execution_count": null,
   "metadata": {
    "scrolled": false
   },
   "outputs": [],
   "source": [
    "df_dtw_pairwise = pd.read_csv(r\"generated_data\\dtw_pairwise.csv\")\n",
    "df_dtw_pairwise = df_dtw_pairwise.set_index(\"Unnamed: 0\")\n",
    "\n",
    "df_dtw_pairwise.head(20)"
   ]
  },
  {
   "cell_type": "code",
   "execution_count": null,
   "metadata": {},
   "outputs": [],
   "source": [
    "df_dtw_pairwise.iloc[:21,:21]"
   ]
  },
  {
   "cell_type": "code",
   "execution_count": null,
   "metadata": {},
   "outputs": [],
   "source": [
    "sns.set(rc={'figure.figsize':(11.7,8.27)})\n",
    "p = sns.heatmap(df_dtw_pairwise, cmap = 'coolwarm')\n",
    "# p.sns.color_palette(\"coolwarm\", as_cmap=True)\n",
    "p.set( xlabel = \"Countries\", ylabel = \"Countries\")\n"
   ]
  },
  {
   "cell_type": "markdown",
   "metadata": {},
   "source": [
    "# Time-series Clustering"
   ]
  },
  {
   "cell_type": "markdown",
   "metadata": {},
   "source": [
    "## Convert DF to Array dtype"
   ]
  },
  {
   "cell_type": "markdown",
   "metadata": {},
   "source": [
    "At this point in the notebook, we use the `tslearn` package to cluster similar time series based on death.\n",
    "We need to convert the dataframe to an array for the `tslearn` package to run the clustering algorithm."
   ]
  },
  {
   "cell_type": "code",
   "execution_count": 3,
   "metadata": {},
   "outputs": [],
   "source": [
    "import numpy as np\n",
    "import pandas as pd\n",
    "import sklearn\n",
    "import sklearn.linear_model\n",
    "\n",
    "import matplotlib\n",
    "from matplotlib import pyplot\n",
    "import matplotlib.pyplot as plt\n",
    "import seaborn as sns\n",
    "from matplotlib.pyplot import figure\n",
    "%matplotlib inline\n",
    "sns.set()\n",
    "sns.set_context(\"talk\")\n",
    "\n",
    "import plotly\n",
    "import plotly.offline as py\n",
    "import plotly.graph_objs as go\n",
    "import plotly.figure_factory as ff\n",
    "\n"
   ]
  },
  {
   "cell_type": "markdown",
   "metadata": {},
   "source": [
    "## Load dataframes"
   ]
  },
  {
   "cell_type": "code",
   "execution_count": 4,
   "metadata": {},
   "outputs": [],
   "source": [
    "# Load index df\n",
    "index = pd.read_csv (r'datasets\\index.csv')\n",
    "# Load df of time series\n",
    "deceased_month_noNAs = pd.read_csv(r\"generated_data\\deceased_month_noNAs.csv\").iloc[:,1:]\n",
    "# Load matrix of pairwise dtw distance values\n",
    "df_dtw_pairwise = pd.read_csv(r\"generated_data\\dtw_pairwise.csv\")"
   ]
  },
  {
   "cell_type": "code",
   "execution_count": 5,
   "metadata": {},
   "outputs": [],
   "source": [
    "index_country_level = index[['location_key','country_code','country_name']]\n",
    "country_codes = index_country_level.groupby(['country_code','country_name']).agg('count').reset_index().iloc[:,:2]"
   ]
  },
  {
   "cell_type": "code",
   "execution_count": 6,
   "metadata": {},
   "outputs": [],
   "source": [
    "# Turn `deceased_month_noNAs` into a numpy array\n",
    "X = deceased_month_noNAs.iloc[:,1:].transpose().to_numpy()"
   ]
  },
  {
   "cell_type": "code",
   "execution_count": 7,
   "metadata": {},
   "outputs": [],
   "source": [
    "# Load tslearn (timeseries learn package)\n",
    "from tslearn.clustering import TimeSeriesKMeans\n",
    "from tslearn.datasets import CachedDatasets\n",
    "from tslearn.preprocessing import TimeSeriesScalerMeanVariance, \\\n",
    "    TimeSeriesResampler\n",
    "from tslearn.generators import random_walks"
   ]
  },
  {
   "cell_type": "markdown",
   "metadata": {},
   "source": [
    "## Inertia Comparison"
   ]
  },
  {
   "cell_type": "markdown",
   "metadata": {},
   "source": [
    "Initiate a for loop to get inertia values of n-clusters for n between 1 and 100."
   ]
  },
  {
   "cell_type": "code",
   "execution_count": 8,
   "metadata": {},
   "outputs": [],
   "source": [
    "################################################\n",
    "# This loop took my X260 around 30 mins to run.#\n",
    "################################################\n",
    "# for i in range(101):\n",
    "#     if i ==0:\n",
    "#         pass\n",
    "#     else:\n",
    "#         km = TimeSeriesKMeans(n_clusters= i , metric=\"dtw\",\n",
    "#                        random_state=0, dtw_inertia = True)\n",
    "#         inertia.append(km.fit(X).inertia_)\n",
    "\n",
    "#################################################\n",
    "#Create the inertia dataframe for visualisation.#\n",
    "#################################################\n",
    "\n",
    "# inertia_df = pd.DataFrame({\n",
    "#     'inertia' : inertia,\n",
    "#     'inertia_log': np.log(inertia)\n",
    "# }).reset_index()\n",
    "\n",
    "# inertia_df['index'] = inertia_df['index'] + 1\n",
    "# inertia_df = inertia_df.rename(columns = {'index':'n_clusters'})\n",
    "# inertia_df['n_clusters'] = inertia_df['n_clusters'].astype(int)\n",
    "# inertia_df.to_csv(r\"generated_data\\inertia_df.csv\")"
   ]
  },
  {
   "cell_type": "code",
   "execution_count": 9,
   "metadata": {},
   "outputs": [],
   "source": [
    "# Read inertia_df\n",
    "inertia_df = pd.read_csv (r'generated_data\\inertia_df.csv').iloc[:,1:]"
   ]
  },
  {
   "cell_type": "code",
   "execution_count": 10,
   "metadata": {
    "scrolled": true
   },
   "outputs": [
    {
     "data": {
      "text/plain": [
       "Text(0, 0.5, 'Log of Inertia Values')"
      ]
     },
     "execution_count": 10,
     "metadata": {},
     "output_type": "execute_result"
    },
    {
     "data": {
      "image/png": "[encoded data removed]",
      "text/plain": [
       "<Figure size 432x288 with 1 Axes>"
      ]
     },
     "metadata": {},
     "output_type": "display_data"
    }
   ],
   "source": [
    "p = sns.lineplot(\n",
    "    data=inertia_df,\n",
    "    x=\"n_clusters\", y=\"inertia_log\",\n",
    "    markers=True, dashes=False\n",
    ")\n",
    "\n",
    "p.set_xlabel(\"Number of clusters\", fontsize = 12)\n",
    "p.set_ylabel(\"Log of Inertia Values\", fontsize = 12)\n"
   ]
  },
  {
   "cell_type": "code",
   "execution_count": 11,
   "metadata": {},
   "outputs": [
    {
     "data": {
      "image/png": "[encoded data removed]",
      "text/plain": [
       "<Figure size 1152x432 with 1 Axes>"
      ]
     },
     "metadata": {},
     "output_type": "display_data"
    }
   ],
   "source": [
    "plt.figure(figsize=(16, 6))\n",
    "p = sns.lineplot(\n",
    "    data=inertia_df[(inertia_df[\"n_clusters\"] < 20)],\n",
    "    x=\"n_clusters\", y=\"inertia_log\",\n",
    "    markers= True, dashes=False,ms=50\n",
    ")\n",
    "\n",
    "p.set_xlabel(\"Number of clusters\", fontsize = 14)\n",
    "p.set_ylabel(\"Log of Inertia Values\", fontsize = 14)\n",
    "_ = plt.xticks(np.arange(0, 20, step=1))"
   ]
  },
  {
   "cell_type": "code",
   "execution_count": 12,
   "metadata": {
    "scrolled": true
   },
   "outputs": [
    {
     "data": {
      "image/png": "[encoded data removed]",
      "text/plain": [
       "<Figure size 1152x576 with 1 Axes>"
      ]
     },
     "metadata": {},
     "output_type": "display_data"
    }
   ],
   "source": [
    "plt.figure(figsize=(16, 8))\n",
    "plt.plot('n_clusters',\"inertia_log\", scalex=True, scaley=True, data=inertia_df[(inertia_df[\"n_clusters\"] < 21)],\n",
    "         marker=\"o\", markersize =5)\n",
    "plt.xlabel(\"Number of clusters\")\n",
    "plt.ylabel(\"Log of Inertia Values\")\n",
    "plt.title(\"log(Inertia) values against number of clusters\", fontsize = 24)\n",
    "_ = plt.xticks(np.arange(0, 21, step=1))"
   ]
  },
  {
   "cell_type": "code",
   "execution_count": 13,
   "metadata": {},
   "outputs": [
    {
     "data": {
      "text/html": [
       "<div>\n",
       "<style scoped>\n",
       "    .dataframe tbody tr th:only-of-type {\n",
       "        vertical-align: middle;\n",
       "    }\n",
       "\n",
       "    .dataframe tbody tr th {\n",
       "        vertical-align: top;\n",
       "    }\n",
       "\n",
       "    .dataframe thead th {\n",
       "        text-align: right;\n",
       "    }\n",
       "</style>\n",
       "<table border=\"1\" class=\"dataframe\">\n",
       "  <thead>\n",
       "    <tr style=\"text-align: right;\">\n",
       "      <th></th>\n",
       "      <th>n_clusters</th>\n",
       "      <th>inertia</th>\n",
       "      <th>inertia_log</th>\n",
       "    </tr>\n",
       "  </thead>\n",
       "  <tbody>\n",
       "    <tr>\n",
       "      <th>19</th>\n",
       "      <td>20</td>\n",
       "      <td>2.995020e+06</td>\n",
       "      <td>14.912461</td>\n",
       "    </tr>\n",
       "    <tr>\n",
       "      <th>20</th>\n",
       "      <td>21</td>\n",
       "      <td>2.611851e+06</td>\n",
       "      <td>14.775570</td>\n",
       "    </tr>\n",
       "    <tr>\n",
       "      <th>21</th>\n",
       "      <td>22</td>\n",
       "      <td>2.359935e+06</td>\n",
       "      <td>14.674145</td>\n",
       "    </tr>\n",
       "    <tr>\n",
       "      <th>22</th>\n",
       "      <td>23</td>\n",
       "      <td>2.042644e+06</td>\n",
       "      <td>14.529756</td>\n",
       "    </tr>\n",
       "    <tr>\n",
       "      <th>23</th>\n",
       "      <td>24</td>\n",
       "      <td>1.888913e+06</td>\n",
       "      <td>14.451512</td>\n",
       "    </tr>\n",
       "    <tr>\n",
       "      <th>24</th>\n",
       "      <td>25</td>\n",
       "      <td>1.700290e+06</td>\n",
       "      <td>14.346309</td>\n",
       "    </tr>\n",
       "    <tr>\n",
       "      <th>25</th>\n",
       "      <td>26</td>\n",
       "      <td>1.524031e+06</td>\n",
       "      <td>14.236869</td>\n",
       "    </tr>\n",
       "    <tr>\n",
       "      <th>26</th>\n",
       "      <td>27</td>\n",
       "      <td>1.394022e+06</td>\n",
       "      <td>14.147704</td>\n",
       "    </tr>\n",
       "    <tr>\n",
       "      <th>27</th>\n",
       "      <td>28</td>\n",
       "      <td>1.310103e+06</td>\n",
       "      <td>14.085616</td>\n",
       "    </tr>\n",
       "    <tr>\n",
       "      <th>28</th>\n",
       "      <td>29</td>\n",
       "      <td>1.177474e+06</td>\n",
       "      <td>13.978882</td>\n",
       "    </tr>\n",
       "    <tr>\n",
       "      <th>29</th>\n",
       "      <td>30</td>\n",
       "      <td>1.109755e+06</td>\n",
       "      <td>13.919650</td>\n",
       "    </tr>\n",
       "    <tr>\n",
       "      <th>30</th>\n",
       "      <td>31</td>\n",
       "      <td>1.058467e+06</td>\n",
       "      <td>13.872332</td>\n",
       "    </tr>\n",
       "    <tr>\n",
       "      <th>31</th>\n",
       "      <td>32</td>\n",
       "      <td>9.358220e+05</td>\n",
       "      <td>13.749181</td>\n",
       "    </tr>\n",
       "    <tr>\n",
       "      <th>32</th>\n",
       "      <td>33</td>\n",
       "      <td>8.163812e+05</td>\n",
       "      <td>13.612637</td>\n",
       "    </tr>\n",
       "    <tr>\n",
       "      <th>33</th>\n",
       "      <td>34</td>\n",
       "      <td>7.216330e+05</td>\n",
       "      <td>13.489272</td>\n",
       "    </tr>\n",
       "    <tr>\n",
       "      <th>34</th>\n",
       "      <td>35</td>\n",
       "      <td>6.511412e+05</td>\n",
       "      <td>13.386482</td>\n",
       "    </tr>\n",
       "    <tr>\n",
       "      <th>35</th>\n",
       "      <td>36</td>\n",
       "      <td>6.194843e+05</td>\n",
       "      <td>13.336643</td>\n",
       "    </tr>\n",
       "    <tr>\n",
       "      <th>36</th>\n",
       "      <td>37</td>\n",
       "      <td>5.822296e+05</td>\n",
       "      <td>13.274620</td>\n",
       "    </tr>\n",
       "    <tr>\n",
       "      <th>37</th>\n",
       "      <td>38</td>\n",
       "      <td>5.524319e+05</td>\n",
       "      <td>13.222085</td>\n",
       "    </tr>\n",
       "    <tr>\n",
       "      <th>38</th>\n",
       "      <td>39</td>\n",
       "      <td>4.994934e+05</td>\n",
       "      <td>13.121350</td>\n",
       "    </tr>\n",
       "    <tr>\n",
       "      <th>39</th>\n",
       "      <td>40</td>\n",
       "      <td>4.682370e+05</td>\n",
       "      <td>13.056730</td>\n",
       "    </tr>\n",
       "  </tbody>\n",
       "</table>\n",
       "</div>"
      ],
      "text/plain": [
       "    n_clusters       inertia  inertia_log\n",
       "19          20  2.995020e+06    14.912461\n",
       "20          21  2.611851e+06    14.775570\n",
       "21          22  2.359935e+06    14.674145\n",
       "22          23  2.042644e+06    14.529756\n",
       "23          24  1.888913e+06    14.451512\n",
       "24          25  1.700290e+06    14.346309\n",
       "25          26  1.524031e+06    14.236869\n",
       "26          27  1.394022e+06    14.147704\n",
       "27          28  1.310103e+06    14.085616\n",
       "28          29  1.177474e+06    13.978882\n",
       "29          30  1.109755e+06    13.919650\n",
       "30          31  1.058467e+06    13.872332\n",
       "31          32  9.358220e+05    13.749181\n",
       "32          33  8.163812e+05    13.612637\n",
       "33          34  7.216330e+05    13.489272\n",
       "34          35  6.511412e+05    13.386482\n",
       "35          36  6.194843e+05    13.336643\n",
       "36          37  5.822296e+05    13.274620\n",
       "37          38  5.524319e+05    13.222085\n",
       "38          39  4.994934e+05    13.121350\n",
       "39          40  4.682370e+05    13.056730"
      ]
     },
     "execution_count": 13,
     "metadata": {},
     "output_type": "execute_result"
    }
   ],
   "source": [
    "inertia_df[(inertia_df[\"n_clusters\"] < 41) & (inertia_df[\"n_clusters\"] > 19)]"
   ]
  },
  {
   "cell_type": "code",
   "execution_count": 14,
   "metadata": {
    "scrolled": false
   },
   "outputs": [
    {
     "data": {
      "image/png": "[encoded data removed]",
      "text/plain": [
       "<Figure size 1152x576 with 1 Axes>"
      ]
     },
     "metadata": {},
     "output_type": "display_data"
    }
   ],
   "source": [
    "plt.figure(figsize=(16, 8))\n",
    "plt.plot('n_clusters',\"inertia_log\", scalex=True, scaley=True, \n",
    "         data=inertia_df[(inertia_df[\"n_clusters\"] < 41) & (inertia_df[\"n_clusters\"] > 19)],\n",
    "         marker=\"o\", markersize =5)\n",
    "plt.xlabel(\"Number of clusters\")\n",
    "plt.ylabel(\"Log of Inertia Values\")\n",
    "plt.title(\"log(Inertia) values against number of clusters\", fontsize = 24)\n",
    "_ = plt.xticks(np.arange(19, 41, step=1))"
   ]
  },
  {
   "cell_type": "markdown",
   "metadata": {},
   "source": [
    "## fit_predict (Choose n_clusters = 8)"
   ]
  },
  {
   "cell_type": "code",
   "execution_count": 15,
   "metadata": {},
   "outputs": [],
   "source": [
    "km = TimeSeriesKMeans(n_clusters= 8 , metric=\"dtw\",\n",
    "               random_state=0, dtw_inertia = True)\n",
    "y_pred = km.fit_predict(X)"
   ]
  },
  {
   "cell_type": "code",
   "execution_count": 16,
   "metadata": {},
   "outputs": [
    {
     "data": {
      "text/plain": [
       "229"
      ]
     },
     "execution_count": 16,
     "metadata": {},
     "output_type": "execute_result"
    }
   ],
   "source": [
    "len(y_pred)"
   ]
  },
  {
   "cell_type": "code",
   "execution_count": 17,
   "metadata": {},
   "outputs": [],
   "source": [
    "cluster_labels = pd.DataFrame({\n",
    "    'cluster' : y_pred\n",
    "})"
   ]
  },
  {
   "cell_type": "code",
   "execution_count": 18,
   "metadata": {
    "scrolled": true
   },
   "outputs": [
    {
     "data": {
      "text/html": [
       "<div>\n",
       "<style scoped>\n",
       "    .dataframe tbody tr th:only-of-type {\n",
       "        vertical-align: middle;\n",
       "    }\n",
       "\n",
       "    .dataframe tbody tr th {\n",
       "        vertical-align: top;\n",
       "    }\n",
       "\n",
       "    .dataframe thead th {\n",
       "        text-align: right;\n",
       "    }\n",
       "</style>\n",
       "<table border=\"1\" class=\"dataframe\">\n",
       "  <thead>\n",
       "    <tr style=\"text-align: right;\">\n",
       "      <th></th>\n",
       "      <th>country_code</th>\n",
       "      <th>0</th>\n",
       "      <th>1</th>\n",
       "      <th>2</th>\n",
       "      <th>3</th>\n",
       "      <th>4</th>\n",
       "      <th>5</th>\n",
       "      <th>6</th>\n",
       "      <th>7</th>\n",
       "      <th>8</th>\n",
       "      <th>...</th>\n",
       "      <th>24</th>\n",
       "      <th>25</th>\n",
       "      <th>26</th>\n",
       "      <th>27</th>\n",
       "      <th>28</th>\n",
       "      <th>29</th>\n",
       "      <th>30</th>\n",
       "      <th>31</th>\n",
       "      <th>32</th>\n",
       "      <th>cluster</th>\n",
       "    </tr>\n",
       "  </thead>\n",
       "  <tbody>\n",
       "    <tr>\n",
       "      <th>0</th>\n",
       "      <td>AD</td>\n",
       "      <td>0.0</td>\n",
       "      <td>0.0</td>\n",
       "      <td>13.0</td>\n",
       "      <td>30.0</td>\n",
       "      <td>8.0</td>\n",
       "      <td>1.0</td>\n",
       "      <td>0.0</td>\n",
       "      <td>1.0</td>\n",
       "      <td>0.0</td>\n",
       "      <td>...</td>\n",
       "      <td>5.0</td>\n",
       "      <td>6.0</td>\n",
       "      <td>2.0</td>\n",
       "      <td>0.0</td>\n",
       "      <td>0.0</td>\n",
       "      <td>0.0</td>\n",
       "      <td>0.0</td>\n",
       "      <td>1.0</td>\n",
       "      <td>0.0</td>\n",
       "      <td>2</td>\n",
       "    </tr>\n",
       "    <tr>\n",
       "      <th>1</th>\n",
       "      <td>AE</td>\n",
       "      <td>0.0</td>\n",
       "      <td>0.0</td>\n",
       "      <td>8.0</td>\n",
       "      <td>103.0</td>\n",
       "      <td>155.0</td>\n",
       "      <td>50.0</td>\n",
       "      <td>35.0</td>\n",
       "      <td>33.0</td>\n",
       "      <td>37.0</td>\n",
       "      <td>...</td>\n",
       "      <td>83.0</td>\n",
       "      <td>53.0</td>\n",
       "      <td>1.0</td>\n",
       "      <td>0.0</td>\n",
       "      <td>3.0</td>\n",
       "      <td>12.0</td>\n",
       "      <td>18.0</td>\n",
       "      <td>6.0</td>\n",
       "      <td>0.0</td>\n",
       "      <td>2</td>\n",
       "    </tr>\n",
       "    <tr>\n",
       "      <th>2</th>\n",
       "      <td>AF</td>\n",
       "      <td>0.0</td>\n",
       "      <td>0.0</td>\n",
       "      <td>4.0</td>\n",
       "      <td>68.0</td>\n",
       "      <td>202.0</td>\n",
       "      <td>537.0</td>\n",
       "      <td>476.0</td>\n",
       "      <td>126.0</td>\n",
       "      <td>49.0</td>\n",
       "      <td>...</td>\n",
       "      <td>61.0</td>\n",
       "      <td>192.0</td>\n",
       "      <td>62.0</td>\n",
       "      <td>12.0</td>\n",
       "      <td>24.0</td>\n",
       "      <td>16.0</td>\n",
       "      <td>28.0</td>\n",
       "      <td>27.0</td>\n",
       "      <td>5.0</td>\n",
       "      <td>2</td>\n",
       "    </tr>\n",
       "    <tr>\n",
       "      <th>3</th>\n",
       "      <td>AG</td>\n",
       "      <td>0.0</td>\n",
       "      <td>0.0</td>\n",
       "      <td>0.0</td>\n",
       "      <td>3.0</td>\n",
       "      <td>0.0</td>\n",
       "      <td>0.0</td>\n",
       "      <td>0.0</td>\n",
       "      <td>0.0</td>\n",
       "      <td>0.0</td>\n",
       "      <td>...</td>\n",
       "      <td>8.0</td>\n",
       "      <td>8.0</td>\n",
       "      <td>0.0</td>\n",
       "      <td>2.0</td>\n",
       "      <td>1.0</td>\n",
       "      <td>3.0</td>\n",
       "      <td>3.0</td>\n",
       "      <td>1.0</td>\n",
       "      <td>0.0</td>\n",
       "      <td>2</td>\n",
       "    </tr>\n",
       "    <tr>\n",
       "      <th>4</th>\n",
       "      <td>AI</td>\n",
       "      <td>0.0</td>\n",
       "      <td>0.0</td>\n",
       "      <td>0.0</td>\n",
       "      <td>0.0</td>\n",
       "      <td>0.0</td>\n",
       "      <td>0.0</td>\n",
       "      <td>0.0</td>\n",
       "      <td>0.0</td>\n",
       "      <td>0.0</td>\n",
       "      <td>...</td>\n",
       "      <td>3.0</td>\n",
       "      <td>1.0</td>\n",
       "      <td>0.0</td>\n",
       "      <td>0.0</td>\n",
       "      <td>0.0</td>\n",
       "      <td>0.0</td>\n",
       "      <td>1.0</td>\n",
       "      <td>1.0</td>\n",
       "      <td>0.0</td>\n",
       "      <td>2</td>\n",
       "    </tr>\n",
       "    <tr>\n",
       "      <th>...</th>\n",
       "      <td>...</td>\n",
       "      <td>...</td>\n",
       "      <td>...</td>\n",
       "      <td>...</td>\n",
       "      <td>...</td>\n",
       "      <td>...</td>\n",
       "      <td>...</td>\n",
       "      <td>...</td>\n",
       "      <td>...</td>\n",
       "      <td>...</td>\n",
       "      <td>...</td>\n",
       "      <td>...</td>\n",
       "      <td>...</td>\n",
       "      <td>...</td>\n",
       "      <td>...</td>\n",
       "      <td>...</td>\n",
       "      <td>...</td>\n",
       "      <td>...</td>\n",
       "      <td>...</td>\n",
       "      <td>...</td>\n",
       "      <td>...</td>\n",
       "    </tr>\n",
       "    <tr>\n",
       "      <th>224</th>\n",
       "      <td>YE</td>\n",
       "      <td>0.0</td>\n",
       "      <td>0.0</td>\n",
       "      <td>0.0</td>\n",
       "      <td>2.0</td>\n",
       "      <td>82.0</td>\n",
       "      <td>234.0</td>\n",
       "      <td>177.0</td>\n",
       "      <td>76.0</td>\n",
       "      <td>17.0</td>\n",
       "      <td>...</td>\n",
       "      <td>29.0</td>\n",
       "      <td>122.0</td>\n",
       "      <td>8.0</td>\n",
       "      <td>6.0</td>\n",
       "      <td>0.0</td>\n",
       "      <td>0.0</td>\n",
       "      <td>2.0</td>\n",
       "      <td>4.0</td>\n",
       "      <td>0.0</td>\n",
       "      <td>2</td>\n",
       "    </tr>\n",
       "    <tr>\n",
       "      <th>225</th>\n",
       "      <td>YT</td>\n",
       "      <td>0.0</td>\n",
       "      <td>0.0</td>\n",
       "      <td>2.0</td>\n",
       "      <td>2.0</td>\n",
       "      <td>20.0</td>\n",
       "      <td>11.0</td>\n",
       "      <td>4.0</td>\n",
       "      <td>1.0</td>\n",
       "      <td>2.0</td>\n",
       "      <td>...</td>\n",
       "      <td>2.0</td>\n",
       "      <td>0.0</td>\n",
       "      <td>0.0</td>\n",
       "      <td>0.0</td>\n",
       "      <td>0.0</td>\n",
       "      <td>0.0</td>\n",
       "      <td>0.0</td>\n",
       "      <td>0.0</td>\n",
       "      <td>0.0</td>\n",
       "      <td>2</td>\n",
       "    </tr>\n",
       "    <tr>\n",
       "      <th>226</th>\n",
       "      <td>ZA</td>\n",
       "      <td>1.0</td>\n",
       "      <td>0.0</td>\n",
       "      <td>4.0</td>\n",
       "      <td>111.0</td>\n",
       "      <td>704.0</td>\n",
       "      <td>4415.0</td>\n",
       "      <td>5404.0</td>\n",
       "      <td>6110.0</td>\n",
       "      <td>2603.0</td>\n",
       "      <td>...</td>\n",
       "      <td>4090.0</td>\n",
       "      <td>4142.0</td>\n",
       "      <td>612.0</td>\n",
       "      <td>321.0</td>\n",
       "      <td>856.0</td>\n",
       "      <td>592.0</td>\n",
       "      <td>171.0</td>\n",
       "      <td>126.0</td>\n",
       "      <td>0.0</td>\n",
       "      <td>4</td>\n",
       "    </tr>\n",
       "    <tr>\n",
       "      <th>227</th>\n",
       "      <td>ZM</td>\n",
       "      <td>3.0</td>\n",
       "      <td>0.0</td>\n",
       "      <td>0.0</td>\n",
       "      <td>2.0</td>\n",
       "      <td>4.0</td>\n",
       "      <td>23.0</td>\n",
       "      <td>134.0</td>\n",
       "      <td>125.0</td>\n",
       "      <td>43.0</td>\n",
       "      <td>...</td>\n",
       "      <td>180.0</td>\n",
       "      <td>32.0</td>\n",
       "      <td>14.0</td>\n",
       "      <td>10.0</td>\n",
       "      <td>11.0</td>\n",
       "      <td>16.0</td>\n",
       "      <td>12.0</td>\n",
       "      <td>1.0</td>\n",
       "      <td>0.0</td>\n",
       "      <td>2</td>\n",
       "    </tr>\n",
       "    <tr>\n",
       "      <th>228</th>\n",
       "      <td>ZW</td>\n",
       "      <td>5.0</td>\n",
       "      <td>0.0</td>\n",
       "      <td>1.0</td>\n",
       "      <td>2.0</td>\n",
       "      <td>0.0</td>\n",
       "      <td>3.0</td>\n",
       "      <td>62.0</td>\n",
       "      <td>132.0</td>\n",
       "      <td>24.0</td>\n",
       "      <td>...</td>\n",
       "      <td>333.0</td>\n",
       "      <td>45.0</td>\n",
       "      <td>49.0</td>\n",
       "      <td>25.0</td>\n",
       "      <td>38.0</td>\n",
       "      <td>51.0</td>\n",
       "      <td>20.0</td>\n",
       "      <td>18.0</td>\n",
       "      <td>0.0</td>\n",
       "      <td>2</td>\n",
       "    </tr>\n",
       "  </tbody>\n",
       "</table>\n",
       "<p>229 rows × 35 columns</p>\n",
       "</div>"
      ],
      "text/plain": [
       "    country_code    0    1     2      3      4       5       6       7  \\\n",
       "0             AD  0.0  0.0  13.0   30.0    8.0     1.0     0.0     1.0   \n",
       "1             AE  0.0  0.0   8.0  103.0  155.0    50.0    35.0    33.0   \n",
       "2             AF  0.0  0.0   4.0   68.0  202.0   537.0   476.0   126.0   \n",
       "3             AG  0.0  0.0   0.0    3.0    0.0     0.0     0.0     0.0   \n",
       "4             AI  0.0  0.0   0.0    0.0    0.0     0.0     0.0     0.0   \n",
       "..           ...  ...  ...   ...    ...    ...     ...     ...     ...   \n",
       "224           YE  0.0  0.0   0.0    2.0   82.0   234.0   177.0    76.0   \n",
       "225           YT  0.0  0.0   2.0    2.0   20.0    11.0     4.0     1.0   \n",
       "226           ZA  1.0  0.0   4.0  111.0  704.0  4415.0  5404.0  6110.0   \n",
       "227           ZM  3.0  0.0   0.0    2.0    4.0    23.0   134.0   125.0   \n",
       "228           ZW  5.0  0.0   1.0    2.0    0.0     3.0    62.0   132.0   \n",
       "\n",
       "          8  ...      24      25     26     27     28     29     30     31  \\\n",
       "0       0.0  ...     5.0     6.0    2.0    0.0    0.0    0.0    0.0    1.0   \n",
       "1      37.0  ...    83.0    53.0    1.0    0.0    3.0   12.0   18.0    6.0   \n",
       "2      49.0  ...    61.0   192.0   62.0   12.0   24.0   16.0   28.0   27.0   \n",
       "3       0.0  ...     8.0     8.0    0.0    2.0    1.0    3.0    3.0    1.0   \n",
       "4       0.0  ...     3.0     1.0    0.0    0.0    0.0    0.0    1.0    1.0   \n",
       "..      ...  ...     ...     ...    ...    ...    ...    ...    ...    ...   \n",
       "224    17.0  ...    29.0   122.0    8.0    6.0    0.0    0.0    2.0    4.0   \n",
       "225     2.0  ...     2.0     0.0    0.0    0.0    0.0    0.0    0.0    0.0   \n",
       "226  2603.0  ...  4090.0  4142.0  612.0  321.0  856.0  592.0  171.0  126.0   \n",
       "227    43.0  ...   180.0    32.0   14.0   10.0   11.0   16.0   12.0    1.0   \n",
       "228    24.0  ...   333.0    45.0   49.0   25.0   38.0   51.0   20.0   18.0   \n",
       "\n",
       "      32  cluster  \n",
       "0    0.0        2  \n",
       "1    0.0        2  \n",
       "2    5.0        2  \n",
       "3    0.0        2  \n",
       "4    0.0        2  \n",
       "..   ...      ...  \n",
       "224  0.0        2  \n",
       "225  0.0        2  \n",
       "226  0.0        4  \n",
       "227  0.0        2  \n",
       "228  0.0        2  \n",
       "\n",
       "[229 rows x 35 columns]"
      ]
     },
     "execution_count": 18,
     "metadata": {},
     "output_type": "execute_result"
    }
   ],
   "source": [
    "clustered_df = deceased_month_noNAs.iloc[:,1:].transpose()\n",
    "clustered_df['cluster'] = y_pred + 1\n",
    "clustered_df = clustered_df.reset_index().rename(columns = {'index':\"country_code\"})\n",
    "clustered_df"
   ]
  },
  {
   "cell_type": "markdown",
   "metadata": {},
   "source": [
    "## Distribution of clusters"
   ]
  },
  {
   "cell_type": "code",
   "execution_count": 19,
   "metadata": {
    "scrolled": false
   },
   "outputs": [],
   "source": [
    "# Number of countries per cluster\n",
    "cluster_count = clustered_df.groupby('cluster').agg('count').iloc[:,:1].reset_index().rename(columns = {0:'count'})\n",
    "cluster_count = cluster_count.rename(columns = {\"country_code\": 'count'})"
   ]
  },
  {
   "cell_type": "markdown",
   "metadata": {},
   "source": [
    "## List of countries per cluster"
   ]
  },
  {
   "cell_type": "code",
   "execution_count": 20,
   "metadata": {},
   "outputs": [],
   "source": [
    "index_country_level = index[['location_key','country_code','country_name']]"
   ]
  },
  {
   "cell_type": "code",
   "execution_count": 21,
   "metadata": {
    "scrolled": true
   },
   "outputs": [],
   "source": [
    "cluster_1 = pd.merge(clustered_df[(clustered_df[\"cluster\"] == 1)],country_codes, how = \"inner\")"
   ]
  },
  {
   "cell_type": "code",
   "execution_count": 22,
   "metadata": {
    "scrolled": true
   },
   "outputs": [],
   "source": [
    "cluster_1 = pd.merge(clustered_df[(clustered_df[\"cluster\"] == 1)],country_codes, how = \"inner\")\n",
    "cluster_2 = pd.merge(clustered_df[(clustered_df[\"cluster\"] == 2)],country_codes, how = \"inner\")\n",
    "cluster_3 = pd.merge(clustered_df[(clustered_df[\"cluster\"] == 3)],country_codes, how = \"inner\")\n",
    "cluster_4 = pd.merge(clustered_df[(clustered_df[\"cluster\"] == 4)],country_codes, how = \"inner\")\n",
    "cluster_5 = pd.merge(clustered_df[(clustered_df[\"cluster\"] == 5)],country_codes, how = \"inner\")\n",
    "cluster_6 = pd.merge(clustered_df[(clustered_df[\"cluster\"] == 6)],country_codes, how = \"inner\")\n",
    "cluster_7 = pd.merge(clustered_df[(clustered_df[\"cluster\"] == 7)],country_codes, how = \"inner\")\n",
    "cluster_8 = pd.merge(clustered_df[(clustered_df[\"cluster\"] == 8)],country_codes, how = \"inner\")"
   ]
  },
  {
   "cell_type": "code",
   "execution_count": 23,
   "metadata": {
    "scrolled": true
   },
   "outputs": [
    {
     "data": {
      "text/html": [
       "<div>\n",
       "<style scoped>\n",
       "    .dataframe tbody tr th:only-of-type {\n",
       "        vertical-align: middle;\n",
       "    }\n",
       "\n",
       "    .dataframe tbody tr th {\n",
       "        vertical-align: top;\n",
       "    }\n",
       "\n",
       "    .dataframe thead th {\n",
       "        text-align: right;\n",
       "    }\n",
       "</style>\n",
       "<table border=\"1\" class=\"dataframe\">\n",
       "  <thead>\n",
       "    <tr style=\"text-align: right;\">\n",
       "      <th></th>\n",
       "      <th>cluster</th>\n",
       "      <th>count</th>\n",
       "    </tr>\n",
       "  </thead>\n",
       "  <tbody>\n",
       "    <tr>\n",
       "      <th>2</th>\n",
       "      <td>3</td>\n",
       "      <td>1</td>\n",
       "    </tr>\n",
       "    <tr>\n",
       "      <th>4</th>\n",
       "      <td>5</td>\n",
       "      <td>1</td>\n",
       "    </tr>\n",
       "    <tr>\n",
       "      <th>5</th>\n",
       "      <td>6</td>\n",
       "      <td>1</td>\n",
       "    </tr>\n",
       "    <tr>\n",
       "      <th>0</th>\n",
       "      <td>1</td>\n",
       "      <td>2</td>\n",
       "    </tr>\n",
       "    <tr>\n",
       "      <th>7</th>\n",
       "      <td>8</td>\n",
       "      <td>2</td>\n",
       "    </tr>\n",
       "    <tr>\n",
       "      <th>3</th>\n",
       "      <td>4</td>\n",
       "      <td>11</td>\n",
       "    </tr>\n",
       "    <tr>\n",
       "      <th>6</th>\n",
       "      <td>7</td>\n",
       "      <td>33</td>\n",
       "    </tr>\n",
       "    <tr>\n",
       "      <th>1</th>\n",
       "      <td>2</td>\n",
       "      <td>178</td>\n",
       "    </tr>\n",
       "  </tbody>\n",
       "</table>\n",
       "</div>"
      ],
      "text/plain": [
       "   cluster  count\n",
       "2        3      1\n",
       "4        5      1\n",
       "5        6      1\n",
       "0        1      2\n",
       "7        8      2\n",
       "3        4     11\n",
       "6        7     33\n",
       "1        2    178"
      ]
     },
     "execution_count": 23,
     "metadata": {},
     "output_type": "execute_result"
    }
   ],
   "source": [
    "cluster_count.sort_values(['count'])"
   ]
  },
  {
   "cell_type": "markdown",
   "metadata": {},
   "source": [
    "We see that cluster 3,5,6 are single outliers, have 1 country in each cluster.\n",
    "We see that cluster 1,8 are also outliers, have 2 countries in each cluster. "
   ]
  },
  {
   "cell_type": "code",
   "execution_count": 24,
   "metadata": {
    "scrolled": true
   },
   "outputs": [
    {
     "data": {
      "text/plain": [
       "0    Brazil\n",
       "Name: country_name, dtype: object"
      ]
     },
     "execution_count": 24,
     "metadata": {},
     "output_type": "execute_result"
    }
   ],
   "source": [
    "cluster_3['country_name']"
   ]
  },
  {
   "cell_type": "markdown",
   "metadata": {},
   "source": [
    "\n",
    "<font size=\"6\">Single Country Outliers </font>"
   ]
  },
  {
   "cell_type": "code",
   "execution_count": 25,
   "metadata": {},
   "outputs": [
    {
     "name": "stdout",
     "output_type": "stream",
     "text": [
      "Cluster 3: Brazil\n",
      "Cluster 5: United States of America\n",
      "Cluster 6: India\n"
     ]
    }
   ],
   "source": [
    "print(\"Cluster 3:\", *cluster_3['country_name'])\n",
    "print(\"Cluster 5:\", *cluster_5['country_name'])\n",
    "print(\"Cluster 6:\", *cluster_6['country_name'])"
   ]
  },
  {
   "cell_type": "markdown",
   "metadata": {},
   "source": [
    "<font size=\"6\">Dual Country Outliers </font>"
   ]
  },
  {
   "cell_type": "code",
   "execution_count": 26,
   "metadata": {
    "scrolled": true
   },
   "outputs": [
    {
     "name": "stdout",
     "output_type": "stream",
     "text": [
      "Cluster 1:\n",
      "Mexico\n",
      "Russia\n",
      "\n",
      "\n",
      "Cluster 8:\n",
      "United Kingdom\n",
      "Indonesia\n"
     ]
    }
   ],
   "source": [
    "print(\"Cluster 1:\", *cluster_1['country_name'], sep = \"\\n\")\n",
    "print(\"\\n\")\n",
    "print(\"Cluster 8:\", *cluster_8['country_name'], sep = \"\\n\")"
   ]
  },
  {
   "cell_type": "markdown",
   "metadata": {},
   "source": [
    "<font size=\"6\"> Cluster 4: 11 Countries </font>"
   ]
  },
  {
   "cell_type": "code",
   "execution_count": 27,
   "metadata": {},
   "outputs": [
    {
     "name": "stdout",
     "output_type": "stream",
     "text": [
      "Cluster 4:\n",
      "Argentina\n",
      "Colombia\n",
      "Germany\n",
      "Spain\n",
      "France\n",
      "Iran\n",
      "Italy\n",
      "Peru\n",
      "Poland\n",
      "Ukraine\n",
      "South Africa\n"
     ]
    }
   ],
   "source": [
    "print(\"Cluster 4:\", *cluster_4['country_name'], sep = \"\\n\")"
   ]
  },
  {
   "cell_type": "markdown",
   "metadata": {},
   "source": [
    "<font size=\"6\"> Cluster 7: 33 Countries </font>"
   ]
  },
  {
   "cell_type": "code",
   "execution_count": 28,
   "metadata": {
    "scrolled": false
   },
   "outputs": [
    {
     "name": "stdout",
     "output_type": "stream",
     "text": [
      "Cluster 7:\n",
      "Austria\n",
      "Bangladesh\n",
      "Belgium\n",
      "Bulgaria\n",
      "Bolivia\n",
      "Canada\n",
      "Chile\n",
      "China\n",
      "Czech Republic\n",
      "Ecuador\n",
      "Greece\n",
      "Hungary\n",
      "Iraq\n",
      "Japan\n",
      "South Korea\n",
      "Kazakhstan\n",
      "Sri Lanka\n",
      "Myanmar\n",
      "Malaysia\n",
      "Netherlands\n",
      "Nepal\n",
      "Philippines\n",
      "Pakistan\n",
      "Portugal\n",
      "Paraguay\n",
      "Romania\n",
      "Sweden\n",
      "Slovakia\n",
      "Thailand\n",
      "Tunisia\n",
      "Turkey\n",
      "Taiwan\n",
      "Vietnam\n"
     ]
    }
   ],
   "source": [
    "print(\"Cluster 7:\", *cluster_7['country_name'], sep = \"\\n\")"
   ]
  },
  {
   "cell_type": "markdown",
   "metadata": {},
   "source": [
    "<font size=\"6\"> Cluster 2: 128 Countries </font>"
   ]
  },
  {
   "cell_type": "code",
   "execution_count": 29,
   "metadata": {},
   "outputs": [
    {
     "name": "stdout",
     "output_type": "stream",
     "text": [
      "Cluster 2:\n",
      "Andorra\n",
      "United Arab Emirates\n",
      "Afghanistan\n",
      "Antigua and Barbuda\n",
      "Anguilla\n",
      "Albania\n",
      "Armenia\n",
      "Angola\n",
      "American Samoa\n",
      "Australia\n",
      "Aruba\n",
      "Azerbaijan\n",
      "Bosnia and Herzegovina\n",
      "Barbados\n",
      "Burkina Faso\n",
      "Bahrain\n",
      "Burundi\n",
      "Benin\n",
      "Bermuda\n",
      "Brunei\n",
      "Bahamas\n",
      "Bhutan\n",
      "Botswana\n",
      "Belarus\n",
      "Belize\n",
      "Democratic Republic of the Congo\n",
      "Central African Republic\n",
      "Republic of the Congo\n",
      "Switzerland\n",
      "Ivory Coast\n",
      "Cook Islands\n",
      "Cameroon\n",
      "Costa Rica\n",
      "Cuba\n",
      "Cape Verde\n",
      "Curaçao\n",
      "Cyprus\n",
      "Djibouti\n",
      "Denmark\n",
      "Dominica\n",
      "Dominican Republic\n",
      "Algeria\n",
      "Estonia\n",
      "Egypt\n",
      "Eritrea\n",
      "Ethiopia\n",
      "Finland\n",
      "Fiji\n",
      "Falkland Islands\n",
      "Micronesia\n",
      "Faroe Islands\n",
      "Gabon\n",
      "Grenada\n",
      "Georgia\n",
      "French Guiana\n",
      "Guernsey\n",
      "Ghana\n",
      "Gibraltar\n",
      "Greenland\n",
      "Gambia\n",
      "Guinea\n",
      "Equatorial Guinea\n",
      "Guatemala\n",
      "Guam\n",
      "Guinea-Bissau\n",
      "Guyana\n",
      "Honduras\n",
      "Croatia\n",
      "Haiti\n",
      "Ireland\n",
      "Israel\n",
      "Isle of Man\n",
      "Iceland\n",
      "Jersey\n",
      "Jamaica\n",
      "Jordan\n",
      "Kenya\n",
      "Kyrgyzstan\n",
      "Cambodia\n",
      "Kiribati\n",
      "Comoros\n",
      "Saint Kitts and Nevis\n",
      "North Korea\n",
      "Kuwait\n",
      "Cayman Islands\n",
      "Laos\n",
      "Lebanon\n",
      "Saint Lucia\n",
      "Liechtenstein\n",
      "Liberia\n",
      "Lesotho\n",
      "Lithuania\n",
      "Luxembourg\n",
      "Latvia\n",
      "Libya\n",
      "Morocco\n",
      "Monaco\n",
      "Moldova\n",
      "Montenegro\n",
      "Madagascar\n",
      "Marshall Islands\n",
      "Macedonia\n",
      "Mali\n",
      "Mongolia\n",
      "Northern Mariana Islands\n",
      "Martinique\n",
      "Mauritania\n",
      "Montserrat\n",
      "Malta\n",
      "Mauritius\n",
      "Maldives\n",
      "Malawi\n",
      "Mozambique\n",
      "New Caledonia\n",
      "Niger\n",
      "Nigeria\n",
      "Nicaragua\n",
      "Norway\n",
      "Nauru\n",
      "Niue\n",
      "New Zealand\n",
      "Oman\n",
      "Panama\n",
      "French Polynesia\n",
      "Papua New Guinea\n",
      "Pitcairn Islands\n",
      "Puerto Rico\n",
      "Palestine\n",
      "Palau\n",
      "Qatar\n",
      "Réunion\n",
      "Serbia\n",
      "Rwanda\n",
      "Saudi Arabia\n",
      "Solomon Islands\n",
      "Seychelles\n",
      "Sudan\n",
      "Singapore\n",
      "Saint Helena\n",
      "Slovenia\n",
      "Sierra Leone\n",
      "San Marino\n",
      "Senegal\n",
      "Somalia\n",
      "Suriname\n",
      "South Sudan\n",
      "São Tomé and Príncipe\n",
      "El Salvador\n",
      "Sint Maarten\n",
      "Syria\n",
      "Swaziland\n",
      "Turks and Caicos Islands\n",
      "Chad\n",
      "Togo\n",
      "Tajikistan\n",
      "Tokelau\n",
      "East Timor\n",
      "Turkmenistan\n",
      "Tonga\n",
      "Trinidad and Tobago\n",
      "Tuvalu\n",
      "Tanzania\n",
      "Uganda\n",
      "Uruguay\n",
      "Uzbekistan\n",
      "Vatican City\n",
      "Saint Vincent and the Grenadines\n",
      "Venezuela\n",
      "British Virgin Islands\n",
      "United States Virgin Islands\n",
      "Vanuatu\n",
      "Wallis and Futuna\n",
      "Samoa\n",
      "Kosovo\n",
      "Yemen\n",
      "Mayotte\n",
      "Zambia\n",
      "Zimbabwe\n"
     ]
    }
   ],
   "source": [
    "print(\"Cluster 2:\", *cluster_2['country_name'], sep = \"\\n\")"
   ]
  }
 ],
 "metadata": {
  "kernelspec": {
   "display_name": "Python 3",
   "language": "python",
   "name": "python3"
  },
  "language_info": {
   "codemirror_mode": {
    "name": "ipython",
    "version": 3
   },
   "file_extension": ".py",
   "mimetype": "text/x-python",
   "name": "python",
   "nbconvert_exporter": "python",
   "pygments_lexer": "ipython3",
   "version": "3.8.5"
  },
  "toc": {
   "base_numbering": 1,
   "nav_menu": {},
   "number_sections": true,
   "sideBar": true,
   "skip_h1_title": false,
   "title_cell": "Table of Contents",
   "title_sidebar": "Contents",
   "toc_cell": false,
   "toc_position": {
    "height": "calc(100% - 180px)",
    "left": "10px",
    "top": "150px",
    "width": "204.767px"
   },
   "toc_section_display": true,
   "toc_window_display": true
  },
  "varInspector": {
   "cols": {
    "lenName": 16,
    "lenType": 16,
    "lenVar": 40
   },
   "kernels_config": {
    "python": {
     "delete_cmd_postfix": "",
     "delete_cmd_prefix": "del ",
     "library": "var_list.py",
     "varRefreshCmd": "print(var_dic_list())"
    },
    "r": {
     "delete_cmd_postfix": ") ",
     "delete_cmd_prefix": "rm(",
     "library": "var_list.r",
     "varRefreshCmd": "cat(var_dic_list()) "
    }
   },
   "types_to_exclude": [
    "module",
    "function",
    "builtin_function_or_method",
    "instance",
    "_Feature"
   ],
   "window_display": false
  },
  "vscode": {
   "interpreter": {
    "hash": "70d6e42db6ae6fb64cad5ad72569bb973cc8ab6c5b5fc21fccc6b881ba3f62ed"
   }
  }
 },
 "nbformat": 4,
 "nbformat_minor": 4
}

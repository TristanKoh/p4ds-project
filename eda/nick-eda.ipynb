{
 "cells": [
  {
   "cell_type": "markdown",
   "metadata": {},
   "source": [
    "<font size=\"5\">Exploratory Data Analysis</font>  \n",
    "\n",
    "Google Covid-19 Data\n",
    "\n",
    "Author: Nicholas\n",
    "\n",
    "The purpose of this notebook is to perform EDA on 4 data sets which make up the aggregated data set. \n",
    "\n",
    "The four data sets I have been assigned are:\n",
    "1. Demographics\n",
    "2. Economy\n",
    "3. Epidemiology\n",
    "4. Emergency Declarations"
   ]
  },
  {
   "cell_type": "markdown",
   "metadata": {},
   "source": [
    "# Load Packages\n"
   ]
  },
  {
   "cell_type": "code",
   "execution_count": 1,
   "metadata": {},
   "outputs": [],
   "source": [
    "# Run this cell to set up your notebook\n",
    "import numpy as np\n",
    "import pandas as pd\n",
    "import sklearn\n",
    "import sklearn.linear_model\n",
    "\n",
    "import matplotlib\n",
    "from matplotlib import pyplot\n",
    "import matplotlib.pyplot as plt\n",
    "import seaborn as sns\n",
    "from matplotlib.pyplot import figure\n",
    "\n",
    "figure(figsize=(8, 6), dpi=80)\n",
    "\n",
    "import plotly.offline as py\n",
    "import plotly.graph_objs as go\n",
    "import plotly.figure_factory as ff\n",
    "#import cufflinks as cf\n",
    "\n",
    "\n",
    "%matplotlib inline\n",
    "sns.set()\n",
    "sns.set_context(\"talk\")\n",
    "\n",
    "from warnings import simplefilter\n",
    "from sklearn.exceptions import ConvergenceWarning\n",
    "simplefilter(\"ignore\", category=ConvergenceWarning)"
   ]
  },
  {
   "cell_type": "markdown",
   "metadata": {},
   "source": [
    "# Load and Inspect Datasets"
   ]
  },
  {
   "cell_type": "markdown",
   "metadata": {},
   "source": [
    "# Index dataset\n",
    "\n",
    "This section will take a look at the structure of the index data frame. \n",
    "\n",
    "This dataset seems to be the most important, since the following four data sets all have a `location_key` column. That means that all the information is tied to a given location and it would be good to know what are the different layers of location, (i.e. country, city, subzone.)\n",
    "\n"
   ]
  },
  {
   "cell_type": "markdown",
   "metadata": {},
   "source": [
    "## Structure \n",
    "of `Index` dataframe\n",
    "\n",
    "\n",
    "| Name | Type | Description | Example |\n",
    "| ---- | ---- | ----------- | ------- |\n",
    "| **key** | `string` | Unique string identifying the region | US_CA_06001 |\n",
    "| **place_id** | `string` | A textual identifier that uniquely identifies a place in the Google Places database and on Google Maps ([details](https://developers.google.com/places/web-service/place-id))| ChIJd_Y0eVIvkIARuQyDN0F1LBA |\n",
    "| **wikidata** | `string` | Wikidata ID corresponding to this key | Q107146 |\n",
    "| **datacommons** | `string` | DataCommons ID corresponding to this key | geoId/06001 |\n",
    "| **country_code** | `string` | ISO 3166-1 alphanumeric 2-letter code of the country | US |\n",
    "| **country_name** | `string` | American English name of the country, subject to change | United States of America |\n",
    "| **subregion1_code** | `string` | (Optional) ISO 3166-2 or NUTS 2/3 code of the subregion | CA |\n",
    "| **subregion1_name** | `string` | (Optional) American English name of the subregion, subject to change | California |\n",
    "| **subregion2_code** | `string` | (Optional) FIPS code of the county (or local equivalent) | 06001 |\n",
    "| **subregion2_name** | `string` | (Optional) American English name of the county (or local equivalent), subject to change | Alameda County |\n",
    "| **3166-1-alpha-2** | `string` | ISO 3166-1 alphanumeric 2-letter code of the country | US |\n",
    "| **3166-1-alpha-3** | `string` | ISO 3166-1 alphanumeric 3-letter code of the country | USA |\n",
    "| **aggregation_level** | `integer` `[0-2]` | Level at which data is aggregated, i.e. country, state/province or county level | 2 |"
   ]
  },
  {
   "cell_type": "code",
   "execution_count": 2,
   "metadata": {
    "scrolled": false
   },
   "outputs": [
    {
     "data": {
      "text/html": [
       "<div>\n",
       "<style scoped>\n",
       "    .dataframe tbody tr th:only-of-type {\n",
       "        vertical-align: middle;\n",
       "    }\n",
       "\n",
       "    .dataframe tbody tr th {\n",
       "        vertical-align: top;\n",
       "    }\n",
       "\n",
       "    .dataframe thead th {\n",
       "        text-align: right;\n",
       "    }\n",
       "</style>\n",
       "<table border=\"1\" class=\"dataframe\">\n",
       "  <thead>\n",
       "    <tr style=\"text-align: right;\">\n",
       "      <th></th>\n",
       "      <th>location_key</th>\n",
       "      <th>place_id</th>\n",
       "      <th>wikidata_id</th>\n",
       "      <th>datacommons_id</th>\n",
       "      <th>country_code</th>\n",
       "      <th>country_name</th>\n",
       "      <th>subregion1_code</th>\n",
       "      <th>subregion1_name</th>\n",
       "      <th>subregion2_code</th>\n",
       "      <th>subregion2_name</th>\n",
       "      <th>locality_code</th>\n",
       "      <th>locality_name</th>\n",
       "      <th>iso_3166_1_alpha_2</th>\n",
       "      <th>iso_3166_1_alpha_3</th>\n",
       "      <th>aggregation_level</th>\n",
       "    </tr>\n",
       "  </thead>\n",
       "  <tbody>\n",
       "    <tr>\n",
       "      <th>0</th>\n",
       "      <td>AD</td>\n",
       "      <td>ChIJlfCemC71pRIRkn_qeNc-yQc</td>\n",
       "      <td>Q228</td>\n",
       "      <td>country/AND</td>\n",
       "      <td>AD</td>\n",
       "      <td>Andorra</td>\n",
       "      <td>NaN</td>\n",
       "      <td>NaN</td>\n",
       "      <td>NaN</td>\n",
       "      <td>NaN</td>\n",
       "      <td>NaN</td>\n",
       "      <td>NaN</td>\n",
       "      <td>AD</td>\n",
       "      <td>AND</td>\n",
       "      <td>0</td>\n",
       "    </tr>\n",
       "    <tr>\n",
       "      <th>1</th>\n",
       "      <td>AE</td>\n",
       "      <td>ChIJvRKrsd9IXj4RpwoIwFYv0zM</td>\n",
       "      <td>Q878</td>\n",
       "      <td>country/ARE</td>\n",
       "      <td>AE</td>\n",
       "      <td>United Arab Emirates</td>\n",
       "      <td>NaN</td>\n",
       "      <td>NaN</td>\n",
       "      <td>NaN</td>\n",
       "      <td>NaN</td>\n",
       "      <td>NaN</td>\n",
       "      <td>NaN</td>\n",
       "      <td>AE</td>\n",
       "      <td>ARE</td>\n",
       "      <td>0</td>\n",
       "    </tr>\n",
       "    <tr>\n",
       "      <th>2</th>\n",
       "      <td>AF</td>\n",
       "      <td>ChIJbQL_-LZu0TgReNqWvg1GtfM</td>\n",
       "      <td>Q889</td>\n",
       "      <td>country/AFG</td>\n",
       "      <td>AF</td>\n",
       "      <td>Afghanistan</td>\n",
       "      <td>NaN</td>\n",
       "      <td>NaN</td>\n",
       "      <td>NaN</td>\n",
       "      <td>NaN</td>\n",
       "      <td>NaN</td>\n",
       "      <td>NaN</td>\n",
       "      <td>AF</td>\n",
       "      <td>AFG</td>\n",
       "      <td>0</td>\n",
       "    </tr>\n",
       "  </tbody>\n",
       "</table>\n",
       "</div>"
      ],
      "text/plain": [
       "  location_key                     place_id wikidata_id datacommons_id  \\\n",
       "0           AD  ChIJlfCemC71pRIRkn_qeNc-yQc        Q228    country/AND   \n",
       "1           AE  ChIJvRKrsd9IXj4RpwoIwFYv0zM        Q878    country/ARE   \n",
       "2           AF  ChIJbQL_-LZu0TgReNqWvg1GtfM        Q889    country/AFG   \n",
       "\n",
       "  country_code          country_name subregion1_code subregion1_name  \\\n",
       "0           AD               Andorra             NaN             NaN   \n",
       "1           AE  United Arab Emirates             NaN             NaN   \n",
       "2           AF           Afghanistan             NaN             NaN   \n",
       "\n",
       "  subregion2_code subregion2_name locality_code locality_name  \\\n",
       "0             NaN             NaN           NaN           NaN   \n",
       "1             NaN             NaN           NaN           NaN   \n",
       "2             NaN             NaN           NaN           NaN   \n",
       "\n",
       "  iso_3166_1_alpha_2 iso_3166_1_alpha_3  aggregation_level  \n",
       "0                 AD                AND                  0  \n",
       "1                 AE                ARE                  0  \n",
       "2                 AF                AFG                  0  "
      ]
     },
     "execution_count": 2,
     "metadata": {},
     "output_type": "execute_result"
    }
   ],
   "source": [
    "# read index data\n",
    "index = pd.read_csv (r'datasets\\index.csv')\n",
    "index.head(3)"
   ]
  },
  {
   "cell_type": "code",
   "execution_count": 3,
   "metadata": {
    "scrolled": false
   },
   "outputs": [
    {
     "name": "stdout",
     "output_type": "stream",
     "text": [
      "The index data frame has 22963 rows and 15 columns.\n"
     ]
    }
   ],
   "source": [
    "# Shape of data\n",
    "print(\"The index data frame has\", index.shape[0], \"rows and\",\n",
    "     index.shape[1], \"columns.\")"
   ]
  },
  {
   "cell_type": "markdown",
   "metadata": {},
   "source": [
    "## Spread \n",
    "\n",
    "of countries"
   ]
  },
  {
   "cell_type": "code",
   "execution_count": 4,
   "metadata": {
    "scrolled": false
   },
   "outputs": [
    {
     "data": {
      "text/html": [
       "<div>\n",
       "<style scoped>\n",
       "    .dataframe tbody tr th:only-of-type {\n",
       "        vertical-align: middle;\n",
       "    }\n",
       "\n",
       "    .dataframe tbody tr th {\n",
       "        vertical-align: top;\n",
       "    }\n",
       "\n",
       "    .dataframe thead th {\n",
       "        text-align: right;\n",
       "    }\n",
       "</style>\n",
       "<table border=\"1\" class=\"dataframe\">\n",
       "  <thead>\n",
       "    <tr style=\"text-align: right;\">\n",
       "      <th></th>\n",
       "      <th>count</th>\n",
       "    </tr>\n",
       "    <tr>\n",
       "      <th>country_name</th>\n",
       "      <th></th>\n",
       "    </tr>\n",
       "  </thead>\n",
       "  <tbody>\n",
       "    <tr>\n",
       "      <th>Brazil</th>\n",
       "      <td>5616</td>\n",
       "    </tr>\n",
       "    <tr>\n",
       "      <th>United States of America</th>\n",
       "      <td>3285</td>\n",
       "    </tr>\n",
       "    <tr>\n",
       "      <th>Mexico</th>\n",
       "      <td>2498</td>\n",
       "    </tr>\n",
       "  </tbody>\n",
       "</table>\n",
       "</div>"
      ],
      "text/plain": [
       "                          count\n",
       "country_name                   \n",
       "Brazil                     5616\n",
       "United States of America   3285\n",
       "Mexico                     2498"
      ]
     },
     "execution_count": 4,
     "metadata": {},
     "output_type": "execute_result"
    }
   ],
   "source": [
    "# List all country names, and count how many rows per country\n",
    "n_countries_df = index.groupby('country_name').agg('count').iloc[:,:1].rename(columns = {'location_key':'count'})\n",
    "\n",
    "# Sort count in descending order, this gives us the countries with more data\n",
    "n_countries_df = n_countries_df.sort_values('count', ascending = False)\n",
    "\n",
    "# Top 3 countries\n",
    "n_countries_df.head(3)"
   ]
  },
  {
   "cell_type": "code",
   "execution_count": 5,
   "metadata": {
    "scrolled": true
   },
   "outputs": [
    {
     "data": {
      "text/plain": [
       "location_key                            ZA_WC_DC5\n",
       "place_id              ChIJg-OB74w21R0RumMhJW3W6wE\n",
       "wikidata_id                              Q1053888\n",
       "datacommons_id                                NaN\n",
       "country_code                                   ZA\n",
       "country_name                         South Africa\n",
       "subregion1_code                                WC\n",
       "subregion1_name                      Western Cape\n",
       "subregion2_code                               DC5\n",
       "subregion2_name                     Central Karoo\n",
       "locality_code                                 NaN\n",
       "locality_name                                 NaN\n",
       "iso_3166_1_alpha_2                             ZA\n",
       "iso_3166_1_alpha_3                            ZAF\n",
       "aggregation_level                               2\n",
       "Name: 22960, dtype: object"
      ]
     },
     "execution_count": 5,
     "metadata": {},
     "output_type": "execute_result"
    }
   ],
   "source": [
    "# Exploring how the subzones are named\n",
    "# Is there a way to group all the countries with multiple subzones together?\n",
    "# Ans:group by country code\n",
    "\n",
    "index['location_key'].unique\n",
    "\n",
    "index.iloc[22960,]"
   ]
  },
  {
   "cell_type": "markdown",
   "metadata": {},
   "source": [
    "## All country codes/names"
   ]
  },
  {
   "cell_type": "code",
   "execution_count": 6,
   "metadata": {
    "scrolled": false
   },
   "outputs": [
    {
     "name": "stdout",
     "output_type": "stream",
     "text": [
      "    country_code                                  country_name\n",
      "0             AD                                       Andorra\n",
      "1             AE                          United Arab Emirates\n",
      "2             AF                                   Afghanistan\n",
      "3             AG                           Antigua and Barbuda\n",
      "4             AI                                      Anguilla\n",
      "5             AL                                       Albania\n",
      "6             AM                                       Armenia\n",
      "7             AN                          Netherlands Antilles\n",
      "8             AO                                        Angola\n",
      "9             AQ                                    Antarctica\n",
      "10            AR                                     Argentina\n",
      "11            AS                                American Samoa\n",
      "12            AT                                       Austria\n",
      "13            AU                                     Australia\n",
      "14            AW                                         Aruba\n",
      "15            AZ                                    Azerbaijan\n",
      "16            BA                        Bosnia and Herzegovina\n",
      "17            BB                                      Barbados\n",
      "18            BD                                    Bangladesh\n",
      "19            BE                                       Belgium\n",
      "20            BF                                  Burkina Faso\n",
      "21            BG                                      Bulgaria\n",
      "22            BH                                       Bahrain\n",
      "23            BI                                       Burundi\n",
      "24            BJ                                         Benin\n",
      "25            BM                                       Bermuda\n",
      "26            BN                                        Brunei\n",
      "27            BO                                       Bolivia\n",
      "28            BQ                         Caribbean Netherlands\n",
      "29            BR                                        Brazil\n",
      "30            BS                                       Bahamas\n",
      "31            BT                                        Bhutan\n",
      "32            BV                                 Bouvet Island\n",
      "33            BW                                      Botswana\n",
      "34            BY                                       Belarus\n",
      "35            BZ                                        Belize\n",
      "36            CA                                        Canada\n",
      "37            CC                                 Cocos Islands\n",
      "38            CD              Democratic Republic of the Congo\n",
      "39            CF                      Central African Republic\n",
      "40            CG                         Republic of the Congo\n",
      "41            CH                                   Switzerland\n",
      "42            CI                                   Ivory Coast\n",
      "43            CK                                  Cook Islands\n",
      "44            CL                                         Chile\n",
      "45            CM                                      Cameroon\n",
      "46            CN                                         China\n",
      "47            CO                                      Colombia\n",
      "48            CR                                    Costa Rica\n",
      "49            CU                                          Cuba\n",
      "50            CV                                    Cape Verde\n",
      "51            CW                                       Curaçao\n",
      "52            CX                              Christmas Island\n",
      "53            CY                                        Cyprus\n",
      "54            CZ                                Czech Republic\n",
      "55            DE                                       Germany\n",
      "56            DJ                                      Djibouti\n",
      "57            DK                                       Denmark\n",
      "58            DM                                      Dominica\n",
      "59            DO                            Dominican Republic\n",
      "60            DZ                                       Algeria\n",
      "61            EC                                       Ecuador\n",
      "62            EE                                       Estonia\n",
      "63            EG                                         Egypt\n",
      "64            EH                                Western Sahara\n",
      "65            ER                                       Eritrea\n",
      "66            ES                                         Spain\n",
      "67            ET                                      Ethiopia\n",
      "68            FI                                       Finland\n",
      "69            FJ                                          Fiji\n",
      "70            FK                              Falkland Islands\n",
      "71            FM                                    Micronesia\n",
      "72            FO                                 Faroe Islands\n",
      "73            FR                                        France\n",
      "74            GA                                         Gabon\n",
      "75            GB                                United Kingdom\n",
      "76            GD                                       Grenada\n",
      "77            GE                                       Georgia\n",
      "78            GF                                 French Guiana\n",
      "79            GG                                      Guernsey\n",
      "80            GH                                         Ghana\n",
      "81            GI                                     Gibraltar\n",
      "82            GL                                     Greenland\n",
      "83            GM                                        Gambia\n",
      "84            GN                                        Guinea\n",
      "85            GQ                             Equatorial Guinea\n",
      "86            GR                                        Greece\n",
      "87            GS  South Georgia and the South Sandwich Islands\n",
      "88            GT                                     Guatemala\n",
      "89            GU                                          Guam\n",
      "90            GW                                 Guinea-Bissau\n",
      "91            GY                                        Guyana\n",
      "92            HK                                     Hong Kong\n",
      "93            HM             Heard Island and McDonald Islands\n",
      "94            HN                                      Honduras\n",
      "95            HR                                       Croatia\n",
      "96            HT                                         Haiti\n",
      "97            HU                                       Hungary\n",
      "98            ID                                     Indonesia\n",
      "99            IE                                       Ireland\n",
      "100           IL                                        Israel\n",
      "101           IM                                   Isle of Man\n",
      "102           IN                                         India\n",
      "103           IO                British Indian Ocean Territory\n",
      "104           IQ                                          Iraq\n",
      "105           IR                                          Iran\n",
      "106           IS                                       Iceland\n",
      "107           IT                                         Italy\n",
      "108           JE                                        Jersey\n",
      "109           JM                                       Jamaica\n",
      "110           JO                                        Jordan\n",
      "111           JP                                         Japan\n",
      "112           KE                                         Kenya\n",
      "113           KG                                    Kyrgyzstan\n",
      "114           KH                                      Cambodia\n",
      "115           KI                                      Kiribati\n",
      "116           KM                                       Comoros\n",
      "117           KN                         Saint Kitts and Nevis\n",
      "118           KP                                   North Korea\n",
      "119           KR                                   South Korea\n",
      "120           KW                                        Kuwait\n",
      "121           KY                                Cayman Islands\n",
      "122           KZ                                    Kazakhstan\n",
      "123           LA                                          Laos\n",
      "124           LB                                       Lebanon\n",
      "125           LC                                   Saint Lucia\n",
      "126           LI                                 Liechtenstein\n",
      "127           LK                                     Sri Lanka\n",
      "128           LR                                       Liberia\n",
      "129           LS                                       Lesotho\n",
      "130           LT                                     Lithuania\n",
      "131           LU                                    Luxembourg\n",
      "132           LV                                        Latvia\n",
      "133           LY                                         Libya\n",
      "134           MA                                       Morocco\n",
      "135           MC                                        Monaco\n",
      "136           MD                                       Moldova\n",
      "137           ME                                    Montenegro\n",
      "138           MG                                    Madagascar\n",
      "139           MH                              Marshall Islands\n",
      "140           MK                                     Macedonia\n",
      "141           ML                                          Mali\n",
      "142           MM                                       Myanmar\n",
      "143           MN                                      Mongolia\n",
      "144           MO                                         Macau\n",
      "145           MP                      Northern Mariana Islands\n",
      "146           MQ                                    Martinique\n",
      "147           MR                                    Mauritania\n",
      "148           MS                                    Montserrat\n",
      "149           MT                                         Malta\n",
      "150           MU                                     Mauritius\n",
      "151           MV                                      Maldives\n",
      "152           MW                                        Malawi\n",
      "153           MX                                        Mexico\n",
      "154           MY                                      Malaysia\n",
      "155           MZ                                    Mozambique\n",
      "156           NC                                 New Caledonia\n",
      "157           NE                                         Niger\n",
      "158           NF                                Norfolk Island\n",
      "159           NG                                       Nigeria\n",
      "160           NI                                     Nicaragua\n",
      "161           NL                                   Netherlands\n",
      "162           NO                                        Norway\n",
      "163           NP                                         Nepal\n",
      "164           NR                                         Nauru\n",
      "165           NU                                          Niue\n",
      "166           NZ                                   New Zealand\n",
      "167           OM                                          Oman\n",
      "168           PA                                        Panama\n",
      "169           PE                                          Peru\n",
      "170           PF                              French Polynesia\n",
      "171           PG                              Papua New Guinea\n",
      "172           PH                                   Philippines\n",
      "173           PK                                      Pakistan\n",
      "174           PL                                        Poland\n",
      "175           PN                              Pitcairn Islands\n",
      "176           PR                                   Puerto Rico\n",
      "177           PS                                     Palestine\n",
      "178           PT                                      Portugal\n",
      "179           PW                                         Palau\n",
      "180           PY                                      Paraguay\n",
      "181           QA                                         Qatar\n",
      "182           RE                                       Réunion\n",
      "183           RO                                       Romania\n",
      "184           RS                                        Serbia\n",
      "185           RU                                        Russia\n",
      "186           RW                                        Rwanda\n",
      "187           SA                                  Saudi Arabia\n",
      "188           SB                               Solomon Islands\n",
      "189           SC                                    Seychelles\n",
      "190           SD                                         Sudan\n",
      "191           SE                                        Sweden\n",
      "192           SG                                     Singapore\n",
      "193           SH                                  Saint Helena\n",
      "194           SI                                      Slovenia\n",
      "195           SJ                        Svalbard and Jan Mayen\n",
      "196           SK                                      Slovakia\n",
      "197           SL                                  Sierra Leone\n",
      "198           SM                                    San Marino\n",
      "199           SN                                       Senegal\n",
      "200           SO                                       Somalia\n",
      "201           SR                                      Suriname\n",
      "202           SS                                   South Sudan\n",
      "203           ST                         São Tomé and Príncipe\n",
      "204           SV                                   El Salvador\n",
      "205           SX                                  Sint Maarten\n",
      "206           SY                                         Syria\n",
      "207           SZ                                     Swaziland\n",
      "208           TC                      Turks and Caicos Islands\n",
      "209           TD                                          Chad\n",
      "210           TF                   French Southern Territories\n",
      "211           TG                                          Togo\n",
      "212           TH                                      Thailand\n",
      "213           TJ                                    Tajikistan\n",
      "214           TK                                       Tokelau\n",
      "215           TL                                    East Timor\n",
      "216           TM                                  Turkmenistan\n",
      "217           TN                                       Tunisia\n",
      "218           TO                                         Tonga\n",
      "219           TR                                        Turkey\n",
      "220           TT                           Trinidad and Tobago\n",
      "221           TV                                        Tuvalu\n",
      "222           TW                                        Taiwan\n",
      "223           TZ                                      Tanzania\n",
      "224           UA                                       Ukraine\n",
      "225           UG                                        Uganda\n",
      "226           UM          United States Minor Outlying Islands\n",
      "227           US                      United States of America\n",
      "228           UY                                       Uruguay\n",
      "229           UZ                                    Uzbekistan\n",
      "230           VA                                  Vatican City\n",
      "231           VC              Saint Vincent and the Grenadines\n",
      "232           VE                                     Venezuela\n",
      "233           VG                        British Virgin Islands\n",
      "234           VI                  United States Virgin Islands\n",
      "235           VN                                       Vietnam\n",
      "236           VU                                       Vanuatu\n",
      "237           WF                             Wallis and Futuna\n",
      "238           WS                                         Samoa\n",
      "239           XK                                        Kosovo\n",
      "240           YE                                         Yemen\n",
      "241           YT                                       Mayotte\n",
      "242           ZA                                  South Africa\n",
      "243           ZM                                        Zambia\n",
      "244           ZW                                      Zimbabwe\n"
     ]
    }
   ],
   "source": [
    "# country_level index \n",
    "index_country_level = index[['location_key','country_code','country_name']]\n",
    "all_countries = index_country_level.groupby(['country_code','country_name']).agg('count').reset_index()\n",
    "print(all_countries.iloc[:,:2].to_string())"
   ]
  },
  {
   "cell_type": "code",
   "execution_count": 7,
   "metadata": {},
   "outputs": [],
   "source": [
    "# Index subregion"
   ]
  },
  {
   "cell_type": "code",
   "execution_count": 8,
   "metadata": {},
   "outputs": [
    {
     "data": {
      "text/html": [
       "<div>\n",
       "<style scoped>\n",
       "    .dataframe tbody tr th:only-of-type {\n",
       "        vertical-align: middle;\n",
       "    }\n",
       "\n",
       "    .dataframe tbody tr th {\n",
       "        vertical-align: top;\n",
       "    }\n",
       "\n",
       "    .dataframe thead th {\n",
       "        text-align: right;\n",
       "    }\n",
       "</style>\n",
       "<table border=\"1\" class=\"dataframe\">\n",
       "  <thead>\n",
       "    <tr style=\"text-align: right;\">\n",
       "      <th></th>\n",
       "      <th>subregion1_name</th>\n",
       "      <th>subregion1_code</th>\n",
       "      <th>location_key</th>\n",
       "      <th>place_id</th>\n",
       "      <th>wikidata_id</th>\n",
       "      <th>datacommons_id</th>\n",
       "      <th>country_code</th>\n",
       "      <th>country_name</th>\n",
       "      <th>subregion2_code</th>\n",
       "      <th>subregion2_name</th>\n",
       "      <th>locality_code</th>\n",
       "      <th>locality_name</th>\n",
       "      <th>iso_3166_1_alpha_2</th>\n",
       "      <th>iso_3166_1_alpha_3</th>\n",
       "      <th>aggregation_level</th>\n",
       "    </tr>\n",
       "  </thead>\n",
       "  <tbody>\n",
       "    <tr>\n",
       "      <th>0</th>\n",
       "      <td>East Midlands, England</td>\n",
       "      <td>UKF</td>\n",
       "      <td>1</td>\n",
       "      <td>1</td>\n",
       "      <td>1</td>\n",
       "      <td>1</td>\n",
       "      <td>1</td>\n",
       "      <td>1</td>\n",
       "      <td>0</td>\n",
       "      <td>0</td>\n",
       "      <td>0</td>\n",
       "      <td>0</td>\n",
       "      <td>1</td>\n",
       "      <td>1</td>\n",
       "      <td>1</td>\n",
       "    </tr>\n",
       "    <tr>\n",
       "      <th>1</th>\n",
       "      <td>East of England</td>\n",
       "      <td>UKH</td>\n",
       "      <td>1</td>\n",
       "      <td>1</td>\n",
       "      <td>1</td>\n",
       "      <td>1</td>\n",
       "      <td>1</td>\n",
       "      <td>1</td>\n",
       "      <td>0</td>\n",
       "      <td>0</td>\n",
       "      <td>0</td>\n",
       "      <td>0</td>\n",
       "      <td>1</td>\n",
       "      <td>1</td>\n",
       "      <td>1</td>\n",
       "    </tr>\n",
       "    <tr>\n",
       "      <th>2</th>\n",
       "      <td>England</td>\n",
       "      <td>ENG</td>\n",
       "      <td>152</td>\n",
       "      <td>131</td>\n",
       "      <td>152</td>\n",
       "      <td>48</td>\n",
       "      <td>152</td>\n",
       "      <td>152</td>\n",
       "      <td>150</td>\n",
       "      <td>150</td>\n",
       "      <td>1</td>\n",
       "      <td>1</td>\n",
       "      <td>152</td>\n",
       "      <td>152</td>\n",
       "      <td>152</td>\n",
       "    </tr>\n",
       "    <tr>\n",
       "      <th>3</th>\n",
       "      <td>London Region</td>\n",
       "      <td>UKI</td>\n",
       "      <td>1</td>\n",
       "      <td>1</td>\n",
       "      <td>1</td>\n",
       "      <td>1</td>\n",
       "      <td>1</td>\n",
       "      <td>1</td>\n",
       "      <td>0</td>\n",
       "      <td>0</td>\n",
       "      <td>0</td>\n",
       "      <td>0</td>\n",
       "      <td>1</td>\n",
       "      <td>1</td>\n",
       "      <td>1</td>\n",
       "    </tr>\n",
       "    <tr>\n",
       "      <th>4</th>\n",
       "      <td>North East England</td>\n",
       "      <td>UKC</td>\n",
       "      <td>1</td>\n",
       "      <td>1</td>\n",
       "      <td>1</td>\n",
       "      <td>1</td>\n",
       "      <td>1</td>\n",
       "      <td>1</td>\n",
       "      <td>0</td>\n",
       "      <td>0</td>\n",
       "      <td>0</td>\n",
       "      <td>0</td>\n",
       "      <td>1</td>\n",
       "      <td>1</td>\n",
       "      <td>1</td>\n",
       "    </tr>\n",
       "    <tr>\n",
       "      <th>5</th>\n",
       "      <td>North West England</td>\n",
       "      <td>UKD</td>\n",
       "      <td>1</td>\n",
       "      <td>1</td>\n",
       "      <td>1</td>\n",
       "      <td>1</td>\n",
       "      <td>1</td>\n",
       "      <td>1</td>\n",
       "      <td>0</td>\n",
       "      <td>0</td>\n",
       "      <td>0</td>\n",
       "      <td>0</td>\n",
       "      <td>1</td>\n",
       "      <td>1</td>\n",
       "      <td>1</td>\n",
       "    </tr>\n",
       "    <tr>\n",
       "      <th>6</th>\n",
       "      <td>Northern Ireland</td>\n",
       "      <td>NIR</td>\n",
       "      <td>12</td>\n",
       "      <td>12</td>\n",
       "      <td>12</td>\n",
       "      <td>2</td>\n",
       "      <td>12</td>\n",
       "      <td>12</td>\n",
       "      <td>11</td>\n",
       "      <td>11</td>\n",
       "      <td>0</td>\n",
       "      <td>0</td>\n",
       "      <td>12</td>\n",
       "      <td>12</td>\n",
       "      <td>12</td>\n",
       "    </tr>\n",
       "    <tr>\n",
       "      <th>7</th>\n",
       "      <td>Scotland</td>\n",
       "      <td>SCT</td>\n",
       "      <td>15</td>\n",
       "      <td>1</td>\n",
       "      <td>1</td>\n",
       "      <td>1</td>\n",
       "      <td>15</td>\n",
       "      <td>15</td>\n",
       "      <td>14</td>\n",
       "      <td>14</td>\n",
       "      <td>0</td>\n",
       "      <td>0</td>\n",
       "      <td>15</td>\n",
       "      <td>15</td>\n",
       "      <td>15</td>\n",
       "    </tr>\n",
       "    <tr>\n",
       "      <th>8</th>\n",
       "      <td>South East England</td>\n",
       "      <td>UKJ</td>\n",
       "      <td>1</td>\n",
       "      <td>0</td>\n",
       "      <td>1</td>\n",
       "      <td>1</td>\n",
       "      <td>1</td>\n",
       "      <td>1</td>\n",
       "      <td>0</td>\n",
       "      <td>0</td>\n",
       "      <td>0</td>\n",
       "      <td>0</td>\n",
       "      <td>1</td>\n",
       "      <td>1</td>\n",
       "      <td>1</td>\n",
       "    </tr>\n",
       "    <tr>\n",
       "      <th>9</th>\n",
       "      <td>South West England</td>\n",
       "      <td>UKK</td>\n",
       "      <td>1</td>\n",
       "      <td>1</td>\n",
       "      <td>1</td>\n",
       "      <td>1</td>\n",
       "      <td>1</td>\n",
       "      <td>1</td>\n",
       "      <td>0</td>\n",
       "      <td>0</td>\n",
       "      <td>0</td>\n",
       "      <td>0</td>\n",
       "      <td>1</td>\n",
       "      <td>1</td>\n",
       "      <td>1</td>\n",
       "    </tr>\n",
       "    <tr>\n",
       "      <th>10</th>\n",
       "      <td>Wales</td>\n",
       "      <td>WLS</td>\n",
       "      <td>8</td>\n",
       "      <td>1</td>\n",
       "      <td>1</td>\n",
       "      <td>1</td>\n",
       "      <td>8</td>\n",
       "      <td>8</td>\n",
       "      <td>7</td>\n",
       "      <td>7</td>\n",
       "      <td>0</td>\n",
       "      <td>0</td>\n",
       "      <td>8</td>\n",
       "      <td>8</td>\n",
       "      <td>8</td>\n",
       "    </tr>\n",
       "    <tr>\n",
       "      <th>11</th>\n",
       "      <td>West Midlands, England</td>\n",
       "      <td>UKG</td>\n",
       "      <td>1</td>\n",
       "      <td>0</td>\n",
       "      <td>1</td>\n",
       "      <td>1</td>\n",
       "      <td>1</td>\n",
       "      <td>1</td>\n",
       "      <td>0</td>\n",
       "      <td>0</td>\n",
       "      <td>0</td>\n",
       "      <td>0</td>\n",
       "      <td>1</td>\n",
       "      <td>1</td>\n",
       "      <td>1</td>\n",
       "    </tr>\n",
       "    <tr>\n",
       "      <th>12</th>\n",
       "      <td>Yorkshire and the Humber, England</td>\n",
       "      <td>UKE</td>\n",
       "      <td>1</td>\n",
       "      <td>1</td>\n",
       "      <td>1</td>\n",
       "      <td>1</td>\n",
       "      <td>1</td>\n",
       "      <td>1</td>\n",
       "      <td>0</td>\n",
       "      <td>0</td>\n",
       "      <td>0</td>\n",
       "      <td>0</td>\n",
       "      <td>1</td>\n",
       "      <td>1</td>\n",
       "      <td>1</td>\n",
       "    </tr>\n",
       "  </tbody>\n",
       "</table>\n",
       "</div>"
      ],
      "text/plain": [
       "                      subregion1_name subregion1_code  location_key  place_id  \\\n",
       "0              East Midlands, England             UKF             1         1   \n",
       "1                     East of England             UKH             1         1   \n",
       "2                             England             ENG           152       131   \n",
       "3                       London Region             UKI             1         1   \n",
       "4                  North East England             UKC             1         1   \n",
       "5                  North West England             UKD             1         1   \n",
       "6                    Northern Ireland             NIR            12        12   \n",
       "7                            Scotland             SCT            15         1   \n",
       "8                  South East England             UKJ             1         0   \n",
       "9                  South West England             UKK             1         1   \n",
       "10                              Wales             WLS             8         1   \n",
       "11             West Midlands, England             UKG             1         0   \n",
       "12  Yorkshire and the Humber, England             UKE             1         1   \n",
       "\n",
       "    wikidata_id  datacommons_id  country_code  country_name  subregion2_code  \\\n",
       "0             1               1             1             1                0   \n",
       "1             1               1             1             1                0   \n",
       "2           152              48           152           152              150   \n",
       "3             1               1             1             1                0   \n",
       "4             1               1             1             1                0   \n",
       "5             1               1             1             1                0   \n",
       "6            12               2            12            12               11   \n",
       "7             1               1            15            15               14   \n",
       "8             1               1             1             1                0   \n",
       "9             1               1             1             1                0   \n",
       "10            1               1             8             8                7   \n",
       "11            1               1             1             1                0   \n",
       "12            1               1             1             1                0   \n",
       "\n",
       "    subregion2_name  locality_code  locality_name  iso_3166_1_alpha_2  \\\n",
       "0                 0              0              0                   1   \n",
       "1                 0              0              0                   1   \n",
       "2               150              1              1                 152   \n",
       "3                 0              0              0                   1   \n",
       "4                 0              0              0                   1   \n",
       "5                 0              0              0                   1   \n",
       "6                11              0              0                  12   \n",
       "7                14              0              0                  15   \n",
       "8                 0              0              0                   1   \n",
       "9                 0              0              0                   1   \n",
       "10                7              0              0                   8   \n",
       "11                0              0              0                   1   \n",
       "12                0              0              0                   1   \n",
       "\n",
       "    iso_3166_1_alpha_3  aggregation_level  \n",
       "0                    1                  1  \n",
       "1                    1                  1  \n",
       "2                  152                152  \n",
       "3                    1                  1  \n",
       "4                    1                  1  \n",
       "5                    1                  1  \n",
       "6                   12                 12  \n",
       "7                   15                 15  \n",
       "8                    1                  1  \n",
       "9                    1                  1  \n",
       "10                   8                  8  \n",
       "11                   1                  1  \n",
       "12                   1                  1  "
      ]
     },
     "execution_count": 8,
     "metadata": {},
     "output_type": "execute_result"
    }
   ],
   "source": [
    "index[index['country_code'] == 'GB'].groupby(['subregion1_name','subregion1_code']).agg(\"count\").reset_index()"
   ]
  },
  {
   "cell_type": "code",
   "execution_count": 9,
   "metadata": {},
   "outputs": [
    {
     "data": {
      "text/plain": [
       "21618"
      ]
     },
     "execution_count": 9,
     "metadata": {},
     "output_type": "execute_result"
    }
   ],
   "source": [
    "# Number of unique place ids\n",
    "index['place_id'].nunique()"
   ]
  },
  {
   "cell_type": "code",
   "execution_count": 10,
   "metadata": {
    "scrolled": true
   },
   "outputs": [
    {
     "data": {
      "text/html": [
       "<div>\n",
       "<style scoped>\n",
       "    .dataframe tbody tr th:only-of-type {\n",
       "        vertical-align: middle;\n",
       "    }\n",
       "\n",
       "    .dataframe tbody tr th {\n",
       "        vertical-align: top;\n",
       "    }\n",
       "\n",
       "    .dataframe thead th {\n",
       "        text-align: right;\n",
       "    }\n",
       "</style>\n",
       "<table border=\"1\" class=\"dataframe\">\n",
       "  <thead>\n",
       "    <tr style=\"text-align: right;\">\n",
       "      <th></th>\n",
       "      <th>country_name</th>\n",
       "      <th>count</th>\n",
       "    </tr>\n",
       "  </thead>\n",
       "  <tbody>\n",
       "    <tr>\n",
       "      <th>0</th>\n",
       "      <td>Brazil</td>\n",
       "      <td>5616</td>\n",
       "    </tr>\n",
       "    <tr>\n",
       "      <th>1</th>\n",
       "      <td>United States of America</td>\n",
       "      <td>3285</td>\n",
       "    </tr>\n",
       "    <tr>\n",
       "      <th>2</th>\n",
       "      <td>Mexico</td>\n",
       "      <td>2498</td>\n",
       "    </tr>\n",
       "    <tr>\n",
       "      <th>3</th>\n",
       "      <td>Peru</td>\n",
       "      <td>1901</td>\n",
       "    </tr>\n",
       "    <tr>\n",
       "      <th>4</th>\n",
       "      <td>Israel</td>\n",
       "      <td>1486</td>\n",
       "    </tr>\n",
       "    <tr>\n",
       "      <th>5</th>\n",
       "      <td>Spain</td>\n",
       "      <td>1398</td>\n",
       "    </tr>\n",
       "    <tr>\n",
       "      <th>6</th>\n",
       "      <td>Colombia</td>\n",
       "      <td>1156</td>\n",
       "    </tr>\n",
       "    <tr>\n",
       "      <th>7</th>\n",
       "      <td>India</td>\n",
       "      <td>754</td>\n",
       "    </tr>\n",
       "    <tr>\n",
       "      <th>8</th>\n",
       "      <td>Indonesia</td>\n",
       "      <td>549</td>\n",
       "    </tr>\n",
       "    <tr>\n",
       "      <th>9</th>\n",
       "      <td>Argentina</td>\n",
       "      <td>545</td>\n",
       "    </tr>\n",
       "    <tr>\n",
       "      <th>10</th>\n",
       "      <td>Germany</td>\n",
       "      <td>429</td>\n",
       "    </tr>\n",
       "    <tr>\n",
       "      <th>11</th>\n",
       "      <td>Poland</td>\n",
       "      <td>397</td>\n",
       "    </tr>\n",
       "    <tr>\n",
       "      <th>12</th>\n",
       "      <td>Netherlands</td>\n",
       "      <td>368</td>\n",
       "    </tr>\n",
       "    <tr>\n",
       "      <th>13</th>\n",
       "      <td>Chile</td>\n",
       "      <td>363</td>\n",
       "    </tr>\n",
       "    <tr>\n",
       "      <th>14</th>\n",
       "      <td>United Kingdom</td>\n",
       "      <td>197</td>\n",
       "    </tr>\n",
       "    <tr>\n",
       "      <th>15</th>\n",
       "      <td>Philippines</td>\n",
       "      <td>131</td>\n",
       "    </tr>\n",
       "    <tr>\n",
       "      <th>16</th>\n",
       "      <td>Italy</td>\n",
       "      <td>125</td>\n",
       "    </tr>\n",
       "    <tr>\n",
       "      <th>17</th>\n",
       "      <td>France</td>\n",
       "      <td>118</td>\n",
       "    </tr>\n",
       "    <tr>\n",
       "      <th>18</th>\n",
       "      <td>Canada</td>\n",
       "      <td>106</td>\n",
       "    </tr>\n",
       "    <tr>\n",
       "      <th>19</th>\n",
       "      <td>Austria</td>\n",
       "      <td>104</td>\n",
       "    </tr>\n",
       "    <tr>\n",
       "      <th>20</th>\n",
       "      <td>Czech Republic</td>\n",
       "      <td>92</td>\n",
       "    </tr>\n",
       "    <tr>\n",
       "      <th>21</th>\n",
       "      <td>Russia</td>\n",
       "      <td>85</td>\n",
       "    </tr>\n",
       "    <tr>\n",
       "      <th>22</th>\n",
       "      <td>Thailand</td>\n",
       "      <td>78</td>\n",
       "    </tr>\n",
       "    <tr>\n",
       "      <th>23</th>\n",
       "      <td>Bangladesh</td>\n",
       "      <td>73</td>\n",
       "    </tr>\n",
       "    <tr>\n",
       "      <th>24</th>\n",
       "      <td>South Africa</td>\n",
       "      <td>62</td>\n",
       "    </tr>\n",
       "    <tr>\n",
       "      <th>25</th>\n",
       "      <td>Japan</td>\n",
       "      <td>48</td>\n",
       "    </tr>\n",
       "    <tr>\n",
       "      <th>26</th>\n",
       "      <td>Kenya</td>\n",
       "      <td>48</td>\n",
       "    </tr>\n",
       "    <tr>\n",
       "      <th>27</th>\n",
       "      <td>Libya</td>\n",
       "      <td>48</td>\n",
       "    </tr>\n",
       "    <tr>\n",
       "      <th>28</th>\n",
       "      <td>Romania</td>\n",
       "      <td>43</td>\n",
       "    </tr>\n",
       "    <tr>\n",
       "      <th>29</th>\n",
       "      <td>Afghanistan</td>\n",
       "      <td>35</td>\n",
       "    </tr>\n",
       "  </tbody>\n",
       "</table>\n",
       "</div>"
      ],
      "text/plain": [
       "                country_name  count\n",
       "0                     Brazil   5616\n",
       "1   United States of America   3285\n",
       "2                     Mexico   2498\n",
       "3                       Peru   1901\n",
       "4                     Israel   1486\n",
       "5                      Spain   1398\n",
       "6                   Colombia   1156\n",
       "7                      India    754\n",
       "8                  Indonesia    549\n",
       "9                  Argentina    545\n",
       "10                   Germany    429\n",
       "11                    Poland    397\n",
       "12               Netherlands    368\n",
       "13                     Chile    363\n",
       "14            United Kingdom    197\n",
       "15               Philippines    131\n",
       "16                     Italy    125\n",
       "17                    France    118\n",
       "18                    Canada    106\n",
       "19                   Austria    104\n",
       "20            Czech Republic     92\n",
       "21                    Russia     85\n",
       "22                  Thailand     78\n",
       "23                Bangladesh     73\n",
       "24              South Africa     62\n",
       "25                     Japan     48\n",
       "26                     Kenya     48\n",
       "27                     Libya     48\n",
       "28                   Romania     43\n",
       "29               Afghanistan     35"
      ]
     },
     "metadata": {},
     "output_type": "display_data"
    }
   ],
   "source": [
    "# Save the top 30 countries ranked in terms of data collected\n",
    "# countries_1 = \n",
    "countries_top = n_countries_df.iloc[:30,].reset_index()\n",
    "display(countries_top)\n",
    "\n",
    "# Visualise how many unique places (placeids) per country\n"
   ]
  },
  {
   "cell_type": "code",
   "execution_count": 11,
   "metadata": {},
   "outputs": [
    {
     "data": {
      "text/plain": [
       "[Text(0.5, 0, 'Country Names'),\n",
       " Text(0, 0.5, 'Count'),\n",
       " Text(0.5, 1.0, 'Number of unique placeids per country')]"
      ]
     },
     "execution_count": 11,
     "metadata": {},
     "output_type": "execute_result"
    },
    {
     "data": {
      "image/png": "[encoded data removed]",
      "text/plain": [
       "<Figure size 720x360 with 1 Axes>"
      ]
     },
     "metadata": {},
     "output_type": "display_data"
    }
   ],
   "source": [
    "fig, axes = plt.subplots(1, 1, sharey=True, figsize=(10,5))\n",
    "plt.xticks(rotation=90)\n",
    "sns.barplot(ax = axes, data=countries_top, x=\"country_name\", y= 'count')\n",
    "\n",
    "\n",
    "axes.set(xlabel='Country Names', ylabel='Count', title='Number of unique placeids per country')"
   ]
  },
  {
   "cell_type": "markdown",
   "metadata": {},
   "source": [
    "The barplot above shows that within the index data frame, how fine-grain the data in each country is. The more rows there are, means unique locations in the country are recorded. "
   ]
  },
  {
   "cell_type": "markdown",
   "metadata": {},
   "source": [
    "# Demographic Dataset"
   ]
  },
  {
   "cell_type": "markdown",
   "metadata": {},
   "source": [
    "## Structure\n",
    "| Name | Type | Description | Example |\n",
    "| ---- | ---- | ----------- | ------- |\n",
    "| **key** | `string` | Unique string identifying the region | KR |\n",
    "| **population** | `integer` | Total count of humans | 51606633 |\n",
    "| **population_male** | `integer` | Total count of males | 25846211 |\n",
    "| **population_female** | `integer` | Total count of females | 25760422 |\n",
    "| **rural_population** | `integer` | Population in a rural area | 9568386 |\n",
    "| **urban_population** | `integer` | Population in an urban area | 42038247 |\n",
    "| **largest_city_population** | `integer` | Population in the largest city of the region | 9963497 |\n",
    "| **clustered_population** | `integer` | Population in urban agglomerations of more than 1 million | 25893097 |\n",
    "| **population_density** | `double` `[persons per squared kilometer]` | Population per squared kilometer of land area | 529.3585 |\n",
    "| **human_development_index** | `double` `[0-1]` | Composite index of life expectancy, education, and per capita income indicators | 0.903 |\n",
    "| **population_age_`${lower}`_`${upper}`\\*** | `integer` | Estimated population between the ages of `${lower}` and `${upper}`, both inclusive | 42038247 |\n",
    "| **population_age_80_and_older\\*** | `integer` | Estimated population over the age of 80 | 477081 |"
   ]
  },
  {
   "cell_type": "code",
   "execution_count": 12,
   "metadata": {
    "scrolled": true
   },
   "outputs": [
    {
     "ename": "FileNotFoundError",
     "evalue": "[Errno 2] No such file or directory: 'datasets\\\\demographics.csv'",
     "output_type": "error",
     "traceback": [
      "\u001b[1;31m---------------------------------------------------------------------------\u001b[0m",
      "\u001b[1;31mFileNotFoundError\u001b[0m                         Traceback (most recent call last)",
      "\u001b[1;32m<ipython-input-12-82e7765dc6a9>\u001b[0m in \u001b[0;36m<module>\u001b[1;34m\u001b[0m\n\u001b[1;32m----> 1\u001b[1;33m \u001b[0mdemo\u001b[0m \u001b[1;33m=\u001b[0m \u001b[0mpd\u001b[0m\u001b[1;33m.\u001b[0m\u001b[0mread_csv\u001b[0m \u001b[1;33m(\u001b[0m\u001b[1;34mr'datasets\\demographics.csv'\u001b[0m\u001b[1;33m)\u001b[0m\u001b[1;33m\u001b[0m\u001b[1;33m\u001b[0m\u001b[0m\n\u001b[0m\u001b[0;32m      2\u001b[0m \u001b[0mdemo\u001b[0m\u001b[1;33m.\u001b[0m\u001b[0mhead\u001b[0m\u001b[1;33m(\u001b[0m\u001b[1;36m3\u001b[0m\u001b[1;33m)\u001b[0m\u001b[1;33m\u001b[0m\u001b[1;33m\u001b[0m\u001b[0m\n",
      "\u001b[1;32m~\\anaconda3\\lib\\site-packages\\pandas\\io\\parsers.py\u001b[0m in \u001b[0;36mread_csv\u001b[1;34m(filepath_or_buffer, sep, delimiter, header, names, index_col, usecols, squeeze, prefix, mangle_dupe_cols, dtype, engine, converters, true_values, false_values, skipinitialspace, skiprows, skipfooter, nrows, na_values, keep_default_na, na_filter, verbose, skip_blank_lines, parse_dates, infer_datetime_format, keep_date_col, date_parser, dayfirst, cache_dates, iterator, chunksize, compression, thousands, decimal, lineterminator, quotechar, quoting, doublequote, escapechar, comment, encoding, dialect, error_bad_lines, warn_bad_lines, delim_whitespace, low_memory, memory_map, float_precision)\u001b[0m\n\u001b[0;32m    684\u001b[0m     )\n\u001b[0;32m    685\u001b[0m \u001b[1;33m\u001b[0m\u001b[0m\n\u001b[1;32m--> 686\u001b[1;33m     \u001b[1;32mreturn\u001b[0m \u001b[0m_read\u001b[0m\u001b[1;33m(\u001b[0m\u001b[0mfilepath_or_buffer\u001b[0m\u001b[1;33m,\u001b[0m \u001b[0mkwds\u001b[0m\u001b[1;33m)\u001b[0m\u001b[1;33m\u001b[0m\u001b[1;33m\u001b[0m\u001b[0m\n\u001b[0m\u001b[0;32m    687\u001b[0m \u001b[1;33m\u001b[0m\u001b[0m\n\u001b[0;32m    688\u001b[0m \u001b[1;33m\u001b[0m\u001b[0m\n",
      "\u001b[1;32m~\\anaconda3\\lib\\site-packages\\pandas\\io\\parsers.py\u001b[0m in \u001b[0;36m_read\u001b[1;34m(filepath_or_buffer, kwds)\u001b[0m\n\u001b[0;32m    450\u001b[0m \u001b[1;33m\u001b[0m\u001b[0m\n\u001b[0;32m    451\u001b[0m     \u001b[1;31m# Create the parser.\u001b[0m\u001b[1;33m\u001b[0m\u001b[1;33m\u001b[0m\u001b[1;33m\u001b[0m\u001b[0m\n\u001b[1;32m--> 452\u001b[1;33m     \u001b[0mparser\u001b[0m \u001b[1;33m=\u001b[0m \u001b[0mTextFileReader\u001b[0m\u001b[1;33m(\u001b[0m\u001b[0mfp_or_buf\u001b[0m\u001b[1;33m,\u001b[0m \u001b[1;33m**\u001b[0m\u001b[0mkwds\u001b[0m\u001b[1;33m)\u001b[0m\u001b[1;33m\u001b[0m\u001b[1;33m\u001b[0m\u001b[0m\n\u001b[0m\u001b[0;32m    453\u001b[0m \u001b[1;33m\u001b[0m\u001b[0m\n\u001b[0;32m    454\u001b[0m     \u001b[1;32mif\u001b[0m \u001b[0mchunksize\u001b[0m \u001b[1;32mor\u001b[0m \u001b[0miterator\u001b[0m\u001b[1;33m:\u001b[0m\u001b[1;33m\u001b[0m\u001b[1;33m\u001b[0m\u001b[0m\n",
      "\u001b[1;32m~\\anaconda3\\lib\\site-packages\\pandas\\io\\parsers.py\u001b[0m in \u001b[0;36m__init__\u001b[1;34m(self, f, engine, **kwds)\u001b[0m\n\u001b[0;32m    944\u001b[0m             \u001b[0mself\u001b[0m\u001b[1;33m.\u001b[0m\u001b[0moptions\u001b[0m\u001b[1;33m[\u001b[0m\u001b[1;34m\"has_index_names\"\u001b[0m\u001b[1;33m]\u001b[0m \u001b[1;33m=\u001b[0m \u001b[0mkwds\u001b[0m\u001b[1;33m[\u001b[0m\u001b[1;34m\"has_index_names\"\u001b[0m\u001b[1;33m]\u001b[0m\u001b[1;33m\u001b[0m\u001b[1;33m\u001b[0m\u001b[0m\n\u001b[0;32m    945\u001b[0m \u001b[1;33m\u001b[0m\u001b[0m\n\u001b[1;32m--> 946\u001b[1;33m         \u001b[0mself\u001b[0m\u001b[1;33m.\u001b[0m\u001b[0m_make_engine\u001b[0m\u001b[1;33m(\u001b[0m\u001b[0mself\u001b[0m\u001b[1;33m.\u001b[0m\u001b[0mengine\u001b[0m\u001b[1;33m)\u001b[0m\u001b[1;33m\u001b[0m\u001b[1;33m\u001b[0m\u001b[0m\n\u001b[0m\u001b[0;32m    947\u001b[0m \u001b[1;33m\u001b[0m\u001b[0m\n\u001b[0;32m    948\u001b[0m     \u001b[1;32mdef\u001b[0m \u001b[0mclose\u001b[0m\u001b[1;33m(\u001b[0m\u001b[0mself\u001b[0m\u001b[1;33m)\u001b[0m\u001b[1;33m:\u001b[0m\u001b[1;33m\u001b[0m\u001b[1;33m\u001b[0m\u001b[0m\n",
      "\u001b[1;32m~\\anaconda3\\lib\\site-packages\\pandas\\io\\parsers.py\u001b[0m in \u001b[0;36m_make_engine\u001b[1;34m(self, engine)\u001b[0m\n\u001b[0;32m   1176\u001b[0m     \u001b[1;32mdef\u001b[0m \u001b[0m_make_engine\u001b[0m\u001b[1;33m(\u001b[0m\u001b[0mself\u001b[0m\u001b[1;33m,\u001b[0m \u001b[0mengine\u001b[0m\u001b[1;33m=\u001b[0m\u001b[1;34m\"c\"\u001b[0m\u001b[1;33m)\u001b[0m\u001b[1;33m:\u001b[0m\u001b[1;33m\u001b[0m\u001b[1;33m\u001b[0m\u001b[0m\n\u001b[0;32m   1177\u001b[0m         \u001b[1;32mif\u001b[0m \u001b[0mengine\u001b[0m \u001b[1;33m==\u001b[0m \u001b[1;34m\"c\"\u001b[0m\u001b[1;33m:\u001b[0m\u001b[1;33m\u001b[0m\u001b[1;33m\u001b[0m\u001b[0m\n\u001b[1;32m-> 1178\u001b[1;33m             \u001b[0mself\u001b[0m\u001b[1;33m.\u001b[0m\u001b[0m_engine\u001b[0m \u001b[1;33m=\u001b[0m \u001b[0mCParserWrapper\u001b[0m\u001b[1;33m(\u001b[0m\u001b[0mself\u001b[0m\u001b[1;33m.\u001b[0m\u001b[0mf\u001b[0m\u001b[1;33m,\u001b[0m \u001b[1;33m**\u001b[0m\u001b[0mself\u001b[0m\u001b[1;33m.\u001b[0m\u001b[0moptions\u001b[0m\u001b[1;33m)\u001b[0m\u001b[1;33m\u001b[0m\u001b[1;33m\u001b[0m\u001b[0m\n\u001b[0m\u001b[0;32m   1179\u001b[0m         \u001b[1;32melse\u001b[0m\u001b[1;33m:\u001b[0m\u001b[1;33m\u001b[0m\u001b[1;33m\u001b[0m\u001b[0m\n\u001b[0;32m   1180\u001b[0m             \u001b[1;32mif\u001b[0m \u001b[0mengine\u001b[0m \u001b[1;33m==\u001b[0m \u001b[1;34m\"python\"\u001b[0m\u001b[1;33m:\u001b[0m\u001b[1;33m\u001b[0m\u001b[1;33m\u001b[0m\u001b[0m\n",
      "\u001b[1;32m~\\anaconda3\\lib\\site-packages\\pandas\\io\\parsers.py\u001b[0m in \u001b[0;36m__init__\u001b[1;34m(self, src, **kwds)\u001b[0m\n\u001b[0;32m   2006\u001b[0m         \u001b[0mkwds\u001b[0m\u001b[1;33m[\u001b[0m\u001b[1;34m\"usecols\"\u001b[0m\u001b[1;33m]\u001b[0m \u001b[1;33m=\u001b[0m \u001b[0mself\u001b[0m\u001b[1;33m.\u001b[0m\u001b[0musecols\u001b[0m\u001b[1;33m\u001b[0m\u001b[1;33m\u001b[0m\u001b[0m\n\u001b[0;32m   2007\u001b[0m \u001b[1;33m\u001b[0m\u001b[0m\n\u001b[1;32m-> 2008\u001b[1;33m         \u001b[0mself\u001b[0m\u001b[1;33m.\u001b[0m\u001b[0m_reader\u001b[0m \u001b[1;33m=\u001b[0m \u001b[0mparsers\u001b[0m\u001b[1;33m.\u001b[0m\u001b[0mTextReader\u001b[0m\u001b[1;33m(\u001b[0m\u001b[0msrc\u001b[0m\u001b[1;33m,\u001b[0m \u001b[1;33m**\u001b[0m\u001b[0mkwds\u001b[0m\u001b[1;33m)\u001b[0m\u001b[1;33m\u001b[0m\u001b[1;33m\u001b[0m\u001b[0m\n\u001b[0m\u001b[0;32m   2009\u001b[0m         \u001b[0mself\u001b[0m\u001b[1;33m.\u001b[0m\u001b[0munnamed_cols\u001b[0m \u001b[1;33m=\u001b[0m \u001b[0mself\u001b[0m\u001b[1;33m.\u001b[0m\u001b[0m_reader\u001b[0m\u001b[1;33m.\u001b[0m\u001b[0munnamed_cols\u001b[0m\u001b[1;33m\u001b[0m\u001b[1;33m\u001b[0m\u001b[0m\n\u001b[0;32m   2010\u001b[0m \u001b[1;33m\u001b[0m\u001b[0m\n",
      "\u001b[1;32mpandas\\_libs\\parsers.pyx\u001b[0m in \u001b[0;36mpandas._libs.parsers.TextReader.__cinit__\u001b[1;34m()\u001b[0m\n",
      "\u001b[1;32mpandas\\_libs\\parsers.pyx\u001b[0m in \u001b[0;36mpandas._libs.parsers.TextReader._setup_parser_source\u001b[1;34m()\u001b[0m\n",
      "\u001b[1;31mFileNotFoundError\u001b[0m: [Errno 2] No such file or directory: 'datasets\\\\demographics.csv'"
     ]
    }
   ],
   "source": [
    "demo = pd.read_csv (r'datasets\\demographics.csv')\n",
    "demo.head(3)"
   ]
  },
  {
   "cell_type": "code",
   "execution_count": null,
   "metadata": {
    "scrolled": false
   },
   "outputs": [],
   "source": [
    "# merge demographic df with country-level index df\n",
    "# df = df.reindex(columns=['mean',0,1,2,3,4])\n",
    "demo_index= demo\n",
    "demo_index = index_country_level.merge(demo)\n",
    "demo_index.head(2)\n",
    "\n",
    "#sort demographic df \n",
    "demo_country = demo_index.groupby('country_name').agg('sum').sort_values('population_rural', ascending = False).reset_index()\n",
    "demo_country.head(3)"
   ]
  },
  {
   "cell_type": "markdown",
   "metadata": {},
   "source": [
    "## Gender"
   ]
  },
  {
   "cell_type": "code",
   "execution_count": null,
   "metadata": {
    "scrolled": true
   },
   "outputs": [],
   "source": [
    "# Distribution by gender\n",
    "demo_gender = demo_country[['country_name','population','population_male','population_female']]\n",
    "demo_gender.head(3)"
   ]
  },
  {
   "cell_type": "code",
   "execution_count": null,
   "metadata": {
    "scrolled": true
   },
   "outputs": [],
   "source": [
    "# Use heatmap to visualise ratio of male to female population?\n",
    "demo_gender['male_female_ratio'] = demo_gender['population_male']/demo_gender['population_female']\n",
    "demo_gender.sort_values('male_female_ratio', ascending = False).head(10)"
   ]
  },
  {
   "cell_type": "markdown",
   "metadata": {},
   "source": [
    "The dataframe above shows the 10 most male-dominated countries. "
   ]
  },
  {
   "cell_type": "markdown",
   "metadata": {},
   "source": [
    "## Rural/urban"
   ]
  },
  {
   "cell_type": "code",
   "execution_count": null,
   "metadata": {},
   "outputs": [],
   "source": [
    "demo_geo = demo_country[['country_name','population_rural','population_urban','population_largest_city']]\n",
    "demo_geo.head(3)"
   ]
  },
  {
   "cell_type": "markdown",
   "metadata": {},
   "source": [
    "## Age"
   ]
  },
  {
   "cell_type": "code",
   "execution_count": null,
   "metadata": {},
   "outputs": [],
   "source": [
    "# Shape of data\n",
    "print(\"The demographics data frame has\", demo.shape[0], \"rows and\",\n",
    "     demo.shape[1], \"columns.\")"
   ]
  },
  {
   "cell_type": "code",
   "execution_count": null,
   "metadata": {
    "scrolled": true
   },
   "outputs": [],
   "source": [
    "demo_country.head()\n",
    "# .groupby('location_key').agg('count')"
   ]
  },
  {
   "cell_type": "markdown",
   "metadata": {},
   "source": [
    "# Economy Dataset"
   ]
  },
  {
   "cell_type": "code",
   "execution_count": null,
   "metadata": {
    "scrolled": false
   },
   "outputs": [],
   "source": [
    "econ = pd.read_csv(r'datasets\\economy.csv')\n",
    "econ.head(3)"
   ]
  },
  {
   "cell_type": "markdown",
   "metadata": {},
   "source": [
    "# Epidemiology Dataset"
   ]
  },
  {
   "cell_type": "code",
   "execution_count": null,
   "metadata": {
    "scrolled": true
   },
   "outputs": [],
   "source": [
    "epid = pd.read_csv(r'datasets\\epidemiology.csv')\n",
    "epid.head(3)"
   ]
  },
  {
   "cell_type": "markdown",
   "metadata": {},
   "source": [
    "## Country-level"
   ]
  },
  {
   "cell_type": "code",
   "execution_count": null,
   "metadata": {
    "scrolled": true
   },
   "outputs": [],
   "source": [
    "# merge with merge with country-level index df\n",
    "epid_country =  index_country_level.merge(epid)\n",
    "\n",
    "# sum up the country's stats \n",
    "epid_country = epid_country.groupby(['country_name','country_code','date']).agg('sum').reset_index()"
   ]
  },
  {
   "cell_type": "code",
   "execution_count": null,
   "metadata": {
    "scrolled": true
   },
   "outputs": [],
   "source": [
    "epid_country"
   ]
  },
  {
   "cell_type": "code",
   "execution_count": null,
   "metadata": {},
   "outputs": [],
   "source": []
  },
  {
   "cell_type": "code",
   "execution_count": null,
   "metadata": {
    "scrolled": true
   },
   "outputs": [],
   "source": [
    "# Let's use Singapore and US as an examples \n",
    "# display the time series of the columns as a time series\n",
    "# epid_US = epid_country['country_code' == 'US']\n",
    "epid_country.dtypes\n",
    "\n",
    "convert_dict = {'country_code':str,\n",
    "}\n",
    "\n",
    "epid_country = epid_country.astype(convert_dict)\n",
    "epid_country.dtypes"
   ]
  },
  {
   "cell_type": "markdown",
   "metadata": {},
   "source": [
    "## UK Epidemiology"
   ]
  },
  {
   "cell_type": "code",
   "execution_count": null,
   "metadata": {
    "scrolled": true
   },
   "outputs": [],
   "source": [
    "import time\n",
    "\n",
    "start_time = time.monotonic()\n",
    "\n",
    "\n",
    "\n",
    "epid_UK = epid_country[(epid_country[\"country_code\"] == 'GB')]\n",
    "print('seconds: ', time.monotonic() - start_time)\n",
    "epid_UK.head()\n"
   ]
  },
  {
   "cell_type": "code",
   "execution_count": null,
   "metadata": {},
   "outputs": [],
   "source": [
    "import plotly.express as px\n",
    "\n",
    "fig = px.line(epid_UK, x='date', y=epid_UK.columns[3:-4])\n",
    "fig.show()"
   ]
  },
  {
   "cell_type": "markdown",
   "metadata": {},
   "source": [
    "# Emergency Declaration Dataset"
   ]
  },
  {
   "cell_type": "code",
   "execution_count": null,
   "metadata": {
    "scrolled": true
   },
   "outputs": [],
   "source": [
    "emer_d = pd.read_csv(r'datasets\\emerg_declar.csv')\n",
    "emer_d.head(3)"
   ]
  },
  {
   "cell_type": "code",
   "execution_count": null,
   "metadata": {
    "scrolled": false
   },
   "outputs": [],
   "source": [
    "emer_d['location_key'].unique()"
   ]
  },
  {
   "cell_type": "markdown",
   "metadata": {},
   "source": [
    "# Government Response"
   ]
  },
  {
   "cell_type": "code",
   "execution_count": null,
   "metadata": {
    "scrolled": true
   },
   "outputs": [],
   "source": [
    "gov_res = pd.read_csv(r'datasets\\government-response.csv')\n",
    "gov_res.shape"
   ]
  },
  {
   "cell_type": "code",
   "execution_count": null,
   "metadata": {},
   "outputs": [],
   "source": [
    "gov_res"
   ]
  },
  {
   "cell_type": "markdown",
   "metadata": {},
   "source": [
    "## Country-level"
   ]
  },
  {
   "cell_type": "code",
   "execution_count": null,
   "metadata": {
    "scrolled": false
   },
   "outputs": [],
   "source": [
    "gov_res_country = index_country_level.merge(gov_res)\n",
    "restrictions_sum = gov_res_country.groupby('country_name').agg('sum')\n",
    "restrictions_sum.head()"
   ]
  },
  {
   "cell_type": "code",
   "execution_count": null,
   "metadata": {},
   "outputs": [],
   "source": [
    "gov_res_country"
   ]
  },
  {
   "cell_type": "markdown",
   "metadata": {},
   "source": [
    "## UK Government Response"
   ]
  },
  {
   "cell_type": "code",
   "execution_count": null,
   "metadata": {
    "scrolled": false
   },
   "outputs": [],
   "source": [
    "gov_res_UK = gov_res_country[(gov_res_country[\"country_code\"] == 'GB')]\n",
    "gov_res_UK.head(3)"
   ]
  },
  {
   "cell_type": "code",
   "execution_count": null,
   "metadata": {
    "scrolled": false
   },
   "outputs": [],
   "source": [
    "# Filter for only England, code ENG\n",
    "eng_response = gov_res_UK[(gov_res_UK['location_key'] == \"GB_ENG\")]\n",
    "# Summarise by month\n",
    "\n",
    "eng_res_month = england_response.groupby('date').agg('mean').reset_index()\n",
    "eng_res_month.head(5)"
   ]
  },
  {
   "cell_type": "code",
   "execution_count": null,
   "metadata": {},
   "outputs": [],
   "source": [
    "# eng_res_month.index\n",
    "eng_res_month.dtypes\n",
    "# eng_res_month['month'] = eng_res_month.index.month\n",
    "# eng_res_month['year'] = eng_res_month.index.year\n",
    "eng_res_month['date'] = pd.to_datetime(eng_res_month['date'], infer_datetime_format = True)\n",
    "eng_res_month = eng_res_month.set_index('date')\n",
    "eng_res_month['day'] = eng_res_month.index.day\n",
    "eng_res_month['month'] = eng_res_month.index.month\n",
    "eng_res_month['year'] = eng_res_month.index.year\n"
   ]
  },
  {
   "cell_type": "code",
   "execution_count": null,
   "metadata": {
    "scrolled": false
   },
   "outputs": [],
   "source": [
    "eng_res_month = eng_res_month.reset_index()"
   ]
  },
  {
   "cell_type": "code",
   "execution_count": null,
   "metadata": {},
   "outputs": [],
   "source": []
  },
  {
   "cell_type": "code",
   "execution_count": null,
   "metadata": {
    "scrolled": true
   },
   "outputs": [],
   "source": [
    "import plotly.express as px\n",
    "# eng_res_month = eng_res_month.data.stocks()\n",
    "fig = px.line(eng_res_month, x=\"date\", y=eng_res_month.columns[3:-3],\n",
    "              width=800, height=400)\n",
    "fig.show()"
   ]
  },
  {
   "cell_type": "code",
   "execution_count": null,
   "metadata": {},
   "outputs": [],
   "source": [
    "import plotly.graph_objects as go\n",
    "fig = go.Figure([go.Scatter(x=eng_res_month['month'], y=eng_res_month.columns[2:-1])])\n",
    "fig.show()"
   ]
  },
  {
   "cell_type": "code",
   "execution_count": null,
   "metadata": {
    "scrolled": true
   },
   "outputs": [],
   "source": [
    "# epid[(epid[\"location_key\" == \"GB_ENG\"])]\n",
    "epid[(epid['location_key'] == \"GB_ENG\")]"
   ]
  },
  {
   "cell_type": "markdown",
   "metadata": {},
   "source": [
    "## K-means attempt"
   ]
  },
  {
   "cell_type": "code",
   "execution_count": null,
   "metadata": {
    "scrolled": true
   },
   "outputs": [],
   "source": [
    "# Merge all the subzones/counties into the countries to make comparison easier.\n",
    "gov_res_country_date = gov_res_country.groupby(['country_code','date']).agg('mean').reset_index()\n",
    "\n",
    "# After groupby, agg, I have 186 countries\n",
    "len(gov_res_country_date['country_code'].unique())\n",
    "\n",
    "gov_res_country_date.head(3)"
   ]
  },
  {
   "cell_type": "code",
   "execution_count": null,
   "metadata": {},
   "outputs": [],
   "source": []
  },
  {
   "cell_type": "code",
   "execution_count": null,
   "metadata": {},
   "outputs": [],
   "source": [
    "# I need to find a way to aggregate/measure the types of policies\n",
    "# Perhaps do a clustering algo? \n",
    "from sklearn.cluster import KMeans\n",
    "model = KMeans()\n",
    "clustering = KMeans().fit(gov_res_country_date)"
   ]
  },
  {
   "cell_type": "code",
   "execution_count": null,
   "metadata": {
    "scrolled": true
   },
   "outputs": [],
   "source": [
    "restrictions_sum.sort_values('workplace_closing', ascending = False)"
   ]
  },
  {
   "cell_type": "markdown",
   "metadata": {},
   "source": [
    "# Hospitalization"
   ]
  },
  {
   "cell_type": "code",
   "execution_count": null,
   "metadata": {
    "scrolled": true
   },
   "outputs": [],
   "source": [
    "hospitalization = pd.read_csv(r'datasets\\hospitalizations.csv')\n",
    "hospitalization"
   ]
  }
 ],
 "metadata": {
  "kernelspec": {
   "display_name": "Python 3",
   "language": "python",
   "name": "python3"
  },
  "language_info": {
   "codemirror_mode": {
    "name": "ipython",
    "version": 3
   },
   "file_extension": ".py",
   "mimetype": "text/x-python",
   "name": "python",
   "nbconvert_exporter": "python",
   "pygments_lexer": "ipython3",
   "version": "3.8.5"
  },
  "toc": {
   "base_numbering": 1,
   "nav_menu": {},
   "number_sections": true,
   "sideBar": true,
   "skip_h1_title": false,
   "title_cell": "Table of Contents",
   "title_sidebar": "Contents",
   "toc_cell": false,
   "toc_position": {
    "height": "calc(100% - 180px)",
    "left": "10px",
    "top": "150px",
    "width": "165px"
   },
   "toc_section_display": true,
   "toc_window_display": true
  },
  "varInspector": {
   "cols": {
    "lenName": 16,
    "lenType": 16,
    "lenVar": 40
   },
   "kernels_config": {
    "python": {
     "delete_cmd_postfix": "",
     "delete_cmd_prefix": "del ",
     "library": "var_list.py",
     "varRefreshCmd": "print(var_dic_list())"
    },
    "r": {
     "delete_cmd_postfix": ") ",
     "delete_cmd_prefix": "rm(",
     "library": "var_list.r",
     "varRefreshCmd": "cat(var_dic_list()) "
    }
   },
   "types_to_exclude": [
    "module",
    "function",
    "builtin_function_or_method",
    "instance",
    "_Feature"
   ],
   "window_display": false
  }
 },
 "nbformat": 4,
 "nbformat_minor": 4
}
